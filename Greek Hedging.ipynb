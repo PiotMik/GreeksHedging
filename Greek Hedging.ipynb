{
  "cells": [
    {
      "cell_type": "markdown",
      "id": "0b35ba5c",
      "metadata": {
        "id": "0b35ba5c"
      },
      "source": [
        "<img src='https://wallpaperaccess.com/full/471490.jpg' />\n",
        "\n",
        "# Greek Hedging\n",
        "\n",
        "W tym notebooku zaprezentujemy:\n",
        "* Jaka jest intuicja za greckimi parametrami?\n",
        "* Co stoi za zmianą cen instrumentu pochodnego?\n",
        "* Jak możemy użyć tej wiedzy do zabezpieczenia pozycji?"
      ]
    },
    {
      "cell_type": "code",
      "source": [
        "!pip install mibian\n",
        "!pip install yfinance"
      ],
      "metadata": {
        "id": "CE6gRGfIfvAk",
        "outputId": "3739d927-8e62-441f-c75a-f477615ba0bb",
        "colab": {
          "base_uri": "https://localhost:8080/"
        }
      },
      "id": "CE6gRGfIfvAk",
      "execution_count": 4,
      "outputs": [
        {
          "output_type": "stream",
          "name": "stdout",
          "text": [
            "Requirement already satisfied: mibian in /usr/local/lib/python3.7/dist-packages (0.1.3)\n",
            "Collecting yfinance\n",
            "  Downloading yfinance-0.1.67-py2.py3-none-any.whl (25 kB)\n",
            "Collecting lxml>=4.5.1\n",
            "  Downloading lxml-4.7.1-cp37-cp37m-manylinux_2_17_x86_64.manylinux2014_x86_64.manylinux_2_24_x86_64.whl (6.4 MB)\n",
            "\u001b[K     |████████████████████████████████| 6.4 MB 44.3 MB/s \n",
            "\u001b[?25hRequirement already satisfied: multitasking>=0.0.7 in /usr/local/lib/python3.7/dist-packages (from yfinance) (0.0.10)\n",
            "Requirement already satisfied: pandas>=0.24 in /usr/local/lib/python3.7/dist-packages (from yfinance) (1.1.5)\n",
            "Requirement already satisfied: numpy>=1.15 in /usr/local/lib/python3.7/dist-packages (from yfinance) (1.19.5)\n",
            "Requirement already satisfied: requests>=2.20 in /usr/local/lib/python3.7/dist-packages (from yfinance) (2.23.0)\n",
            "Requirement already satisfied: python-dateutil>=2.7.3 in /usr/local/lib/python3.7/dist-packages (from pandas>=0.24->yfinance) (2.8.2)\n",
            "Requirement already satisfied: pytz>=2017.2 in /usr/local/lib/python3.7/dist-packages (from pandas>=0.24->yfinance) (2018.9)\n",
            "Requirement already satisfied: six>=1.5 in /usr/local/lib/python3.7/dist-packages (from python-dateutil>=2.7.3->pandas>=0.24->yfinance) (1.15.0)\n",
            "Requirement already satisfied: idna<3,>=2.5 in /usr/local/lib/python3.7/dist-packages (from requests>=2.20->yfinance) (2.10)\n",
            "Requirement already satisfied: chardet<4,>=3.0.2 in /usr/local/lib/python3.7/dist-packages (from requests>=2.20->yfinance) (3.0.4)\n",
            "Requirement already satisfied: certifi>=2017.4.17 in /usr/local/lib/python3.7/dist-packages (from requests>=2.20->yfinance) (2021.10.8)\n",
            "Requirement already satisfied: urllib3!=1.25.0,!=1.25.1,<1.26,>=1.21.1 in /usr/local/lib/python3.7/dist-packages (from requests>=2.20->yfinance) (1.24.3)\n",
            "Installing collected packages: lxml, yfinance\n",
            "  Attempting uninstall: lxml\n",
            "    Found existing installation: lxml 4.2.6\n",
            "    Uninstalling lxml-4.2.6:\n",
            "      Successfully uninstalled lxml-4.2.6\n",
            "Successfully installed lxml-4.7.1 yfinance-0.1.67\n"
          ]
        }
      ]
    },
    {
      "cell_type": "code",
      "execution_count": 66,
      "id": "c4933d20",
      "metadata": {
        "id": "c4933d20"
      },
      "outputs": [],
      "source": [
        "import numpy as np\n",
        "import matplotlib.pyplot as plt\n",
        "import matplotlib.animation as animation\n",
        "from matplotlib import cm\n",
        "from mpl_toolkits.mplot3d import axes3d\n",
        "import scipy.stats as sc\n",
        "from scipy.stats import norm\n",
        "from IPython.core.debugger import Pdb\n",
        "import mibian\n",
        "import yfinance as yf\n",
        "from tqdm import tqdm\n",
        "import plotly.graph_objects as go\n",
        "from plotly.subplots import make_subplots\n",
        "plt.style.use('seaborn')\n",
        "\n",
        "%matplotlib notebook"
      ]
    },
    {
      "cell_type": "markdown",
      "id": "8f55e292",
      "metadata": {
        "id": "8f55e292"
      },
      "source": [
        "### Geometryczny ruch Browna\n",
        "\n",
        "Jako model cen akcji przyjmujemy GBM, poniżej przykładowa funkcja generująca wybraną liczbę trajektorii przy zadanych parametrach"
      ]
    },
    {
      "cell_type": "code",
      "execution_count": 7,
      "id": "b2f53450",
      "metadata": {
        "id": "b2f53450"
      },
      "outputs": [],
      "source": [
        "def gbm(S0: float, r: float, sigma: float, T: float, time_steps: int, n_paths: int, \n",
        "        random_generator = sc.norm(0, 1)):\n",
        "    \"\"\"\n",
        "    Generate Geometric Brownian Motion paths\n",
        "    :param S0: float, starting price\n",
        "    :param r: float, risk free rate\n",
        "    :param sigma: float, volatility\n",
        "    :param T: float, time horizon\n",
        "    :param time_steps: int, how many subintervals include from 0 to T\n",
        "    :param n_paths: int, how many paths to simulate\n",
        "    :param random_generator: distribution family from which to draw random increments\n",
        "    :return: paths: ndarray, simulated paths\n",
        "    \"\"\"\n",
        "    \n",
        "    dt = float(T) / time_steps\n",
        "    paths = np.zeros((time_steps + 1, n_paths), np.float64)\n",
        "    paths[0] = S0\n",
        "    for t in range(1, time_steps + 1):\n",
        "        rand = random_generator.rvs(size = n_paths)\n",
        "        paths[t] = paths[t - 1] * np.exp((r - 0.5 * sigma ** 2) * dt +\n",
        "                                         sigma * np.sqrt(dt) * rand)\n",
        "    return paths\n",
        "\n",
        "def run_animation(t: np.array, stochastic_process: np.ndarray, title: str, tempo:float = 1):\n",
        "    \"\"\"\n",
        "    Animate a trajectory\n",
        "    :param t: np.array, x-axis (time)\n",
        "    :param stochastic_process: np.ndarray, trajectories of a stochastic process over 't'\n",
        "    :param title: str, plot title\n",
        "    :param tempo: int, factor to control animation speed\n",
        "    \"\"\"\n",
        "    X = stochastic_process.T\n",
        "    N = X.shape[1] - 1\n",
        "    m = X.shape[0]\n",
        "    \n",
        "    fig = plt.figure()\n",
        "    ax = plt.axes(xlim=(t.min(), t.max()), ylim=(X.min() - 0.5, X.max() + 0.5))\n",
        "    \n",
        "    # lists to store x and y axis points \n",
        "    xdata = []\n",
        "    ydata = []\n",
        "    lines = []\n",
        "    for l in range(m):\n",
        "        line, = ax.plot([], [], lw=2)#, color='#0492C2')\n",
        "        lines.append(line)\n",
        "        ydata.append([])\n",
        "        \n",
        "    ax.set_ylabel('y')\n",
        "    ax.set_xlabel('t')\n",
        "    ax.set_title(title)\n",
        "    ax.grid(True, which='major', linestyle='--', color='black', alpha=0.4)\n",
        "    \n",
        "    # initialization function \n",
        "    def init(): \n",
        "        # creating an empty plot/frame \n",
        "        for line in lines:\n",
        "            line.set_data([], []) \n",
        "        return lines\n",
        "    \n",
        "    # animation function \n",
        "    def animate(i):\n",
        "        # appending new points to x, y axes points list \n",
        "        xdata.append(t[i]) \n",
        "        for ind, line in enumerate(lines):\n",
        "            ydata[ind].append(X[ind][i]) \n",
        "            line.set_data(xdata, ydata[ind]) \n",
        "        return lines,\n",
        "\n",
        "    return animation.FuncAnimation(fig, animate, init_func=init, frames=N, interval=tempo*1000/N, repeat = False, blit=True)"
      ]
    },
    {
      "cell_type": "code",
      "execution_count": null,
      "id": "ed86e98e",
      "metadata": {
        "id": "ed86e98e"
      },
      "outputs": [],
      "source": [
        "%matplotlib notebook\n",
        "N = 252\n",
        "n = 1\n",
        "St = gbm(S0 = 100, r = 0.01, sigma = 0.3, T = 1, time_steps=N, n_paths = 3)\n",
        "t = np.linspace(0, 1, N)\n",
        "run_animation(t, St, 'Stock price')"
      ]
    },
    {
      "cell_type": "markdown",
      "id": "e4cb9bb3",
      "metadata": {
        "id": "e4cb9bb3"
      },
      "source": [
        "### Wycena opcji\n",
        "\n",
        "Do wyceny posłuzymy się biblioteką `mibian` (<a href=\"https://github.com/neilsmurphy/MibianLib\">GitHub: MibianLib</a>).\n",
        "\n",
        "Zawiera gotowe algorytmy waluacyjne dla waniliowych opcji europejskich. Dostaniemy z niej ceny i wartości greckich parametrów dla opcji call i put "
      ]
    },
    {
      "cell_type": "code",
      "execution_count": 8,
      "id": "a72b1567",
      "metadata": {
        "id": "a72b1567",
        "outputId": "346ce81a-163d-489d-c9bf-ae808375a8f2",
        "colab": {
          "base_uri": "https://localhost:8080/"
        }
      },
      "outputs": [
        {
          "output_type": "stream",
          "name": "stdout",
          "text": [
            "\n",
            "Call \n",
            "-----\n",
            "Price: 24.4132\n",
            "Delta: 0.5890\n",
            "Gamma: 0.0065\n",
            "Theta: -0.0337\n",
            "Vega:  0.5835\n",
            "Rho:   0.6394\n",
            "\n"
          ]
        }
      ],
      "source": [
        "S0 = 150.0\n",
        "K = 150.0\n",
        "rfr = 1 # in pct\n",
        "T = 365# in days\n",
        "sigma = 40 # in pct\n",
        "option = mibian.BS([S0, K, rfr, T], volatility = sigma)\n",
        "\n",
        "\n",
        "print(f\"\"\"\n",
        "Call \n",
        "-----\n",
        "Price: {option.callPrice:.4f}\n",
        "Delta: {option.callDelta:.4f}\n",
        "Gamma: {option.gamma:.4f}\n",
        "Theta: {option.callTheta:.4f}\n",
        "Vega:  {option.vega:.4f}\n",
        "Rho:   {option.callRho:.4f}\n",
        "\"\"\")"
      ]
    },
    {
      "cell_type": "markdown",
      "id": "bc3cb96e",
      "metadata": {
        "id": "bc3cb96e"
      },
      "source": [
        "## Black-Scholes PDE\n",
        "### Czyli co wpływa na wartość <s>opcji</s> instrumentu pochodnego?\n",
        "\n",
        "Rozważymy cenę akcji $S_t$ o dynamice zadanej geometrycznym ruchem Browna, oraz instrumentu pochodnego $V_t$ używającym $S_t$ jako instrument bazowy.\n",
        "\n",
        "Teoria Blacka-Scholesa mówi, że przy założeniach braku arbitrażu i zupełności rynku dynamika dowolnej derywaty spełnia cząstkowe równanie różniczkowe:\n",
        "\n",
        "$$dV = \\sigma S \\frac{\\partial V}{\\partial S}dW + \\bigg( \\mu S \\frac{\\partial V}{\\partial S} + \\frac{1}{2}\\sigma^2 S^2 \\frac{\\partial^2 V}{\\partial S^2} + \\frac{\\partial V}{\\partial t} \\bigg)dt$$.\n",
        "\n",
        "Widzimy dwa źródła dynamiki ceny: deterministyczne ($dt$), oraz losowe ($dW$).\n",
        "\n",
        "W szczególności, dla instrumentu bazowego:\n",
        "\n",
        "$$ dS = \\mu S dt + \\sigma S dW $$"
      ]
    },
    {
      "cell_type": "markdown",
      "id": "99b0750f",
      "metadata": {
        "id": "99b0750f"
      },
      "source": [
        "## $\\Delta$ hedging\n",
        "\n",
        "Rozpatrzmy wartość portfel $\\Pi$, złożony z derywaty $V$, oraz $x$ jednostek instrumentu bazowego $S$. Na zmiany wartości portfela wpływają dwa składniki:\n",
        "\n",
        "$$ d\\Pi = dV - x dS$$.\n",
        "\n",
        "Rozpisując $dV$ i $dS$:\n",
        "$$ d\\Pi =  \\sigma S \\frac{\\partial V}{\\partial S}dW + \\bigg( \\mu S \\frac{\\partial V}{\\partial S} + \\frac{1}{2}\\sigma^2 S^2 \\frac{\\partial^2 V}{\\partial S^2} + \\frac{\\partial V}{\\partial t} \\bigg)dt - x \\bigg(\\mu S dt + \\sigma S dW  \\bigg) $$\n",
        "\n"
      ]
    },
    {
      "cell_type": "markdown",
      "id": "d14c8048",
      "metadata": {
        "id": "d14c8048"
      },
      "source": [
        "$$ d\\Pi = \\bigg(\\mu S \\frac{\\partial V}{\\partial S} + \\frac{1}{2}\\sigma^2 S^2 \\frac{\\partial^2 V}{\\partial S^2} + \\frac{\\partial V}{\\partial t} -x\\mu S \\bigg)dt + \\bigg(\\sigma S \\frac{\\partial V}{\\partial S} - x \\sigma S \\bigg)dW $$\n",
        "\n",
        "$$ d\\Pi = \\bigg(\\mu S \\bigg(\\frac{\\partial V}{\\partial S} - x \\bigg)+ \\frac{1}{2}\\sigma^2 S^2 \\frac{\\partial^2 V}{\\partial S^2} + \\frac{\\partial V}{\\partial t} \\bigg)dt + \\sigma S \\bigg(\\frac{\\partial V}{\\partial S} - x \\bigg)dW $$\n",
        "\n",
        "**Q: Czy istnieje jakaś \"specjalna\" wartość $x?$**\n",
        "\n",
        "**Q: Co się przy niej dzieje z wartością portfela $\\Pi?$**"
      ]
    },
    {
      "cell_type": "code",
      "execution_count": 20,
      "id": "d73a8040",
      "metadata": {
        "id": "d73a8040",
        "outputId": "48e9070d-1067-4506-d928-564558c9d53c",
        "colab": {
          "base_uri": "https://localhost:8080/",
          "height": 351
        }
      },
      "outputs": [
        {
          "output_type": "display_data",
          "data": {
            "image/png": "[encoded data removed]",
            "text/plain": [
              "<Figure size 720x360 with 1 Axes>"
            ]
          },
          "metadata": {
            "needs_background": "light"
          }
        }
      ],
      "source": [
        "%matplotlib inline\n",
        "\n",
        "# Numeric params setup\n",
        "MC = 10000\n",
        "dt = 5/365\n",
        "\n",
        "# Market/Option params setup\n",
        "r = 0.05\n",
        "sig = 0.3\n",
        "T = 1.\n",
        "S0 = 70.\n",
        "K = 90.\n",
        "option = mibian.BS([S0, K, r*100, T*365], volatility = sig*100)\n",
        "\n",
        "# Compute delta and price\n",
        "delta = option.callDelta\n",
        "V_0 = option.callPrice\n",
        "\n",
        "# Simulate 1 day stock trajectory\n",
        "S_1D = gbm(S0, r, sig, dt, 1, MC)[-1]\n",
        "\n",
        "# Make an array of likely stock prices, based on min-max of the simulation.\n",
        "# Compute option prices on that array.\n",
        "S_1D = np.linspace(S_1D.min(), S_1D.max(), 100)\n",
        "V_1D = np.array([mibian.BS([S, K, r*100, 364], volatility = sig*100).callPrice for S in S_1D])\n",
        "\n",
        "# Compute price changes\n",
        "DV_1D = (V_1D - V_0)\n",
        "DP_1D = (V_1D - delta*S_1D) - (V_0 - delta*S0)\n",
        "\n",
        "# Plot changes of pure option vs portfolio\n",
        "plt.figure(figsize=(10, 5))\n",
        "plt.plot(S_1D - S0, DV_1D, label = '$dV$')\n",
        "plt.plot(S_1D - S0, DP_1D, label = '$dV - xdS$')\n",
        "plt.xlabel('$dS$')\n",
        "plt.title('Price change (nominal)')\n",
        "_ = plt.legend()"
      ]
    },
    {
      "cell_type": "markdown",
      "id": "b4db9842",
      "metadata": {
        "id": "b4db9842"
      },
      "source": [
        "<div class=\"alert alert-block alert-info\">\n",
        "<b>Co tak właściwie się dzieje?</b>\n",
        "    \n",
        "$$ d\\Pi = \\bigg(\\mu S \\bigg(\\frac{\\partial V}{\\partial S} - x \\bigg)+ \\frac{1}{2}\\sigma^2 S^2 \\frac{\\partial^2 V}{\\partial S^2} + \\frac{\\partial V}{\\partial t} \\bigg)dt + \\sigma S \\bigg(\\frac{\\partial V}{\\partial S} - x \\bigg)dW $$\n",
        "\n",
        "Dobierając $x = \\frac{\\partial V}{\\partial S}$ dostajemy dynamikę portfela:\n",
        "\n",
        "$$ d\\Pi = \\bigg(\\frac{1}{2}\\sigma^2 S^2 \\frac{\\partial^2 V}{\\partial S^2} + \\frac{\\partial V}{\\partial t} \\bigg)dt $$.   \n",
        "</div>\n",
        "\n",
        "\n",
        "A pisząc to samo po grecku:\n",
        "\n",
        "Dobierając $x = \\Delta$ dostajemy dynamikę portfela:\n",
        "\n",
        "$$ d\\Pi = \\bigg(\\frac{1}{2}\\sigma^2 S^2 \\Gamma + \\Theta \\bigg)dt $$"
      ]
    },
    {
      "cell_type": "code",
      "execution_count": 23,
      "id": "d58e2b82",
      "metadata": {
        "id": "d58e2b82",
        "outputId": "2c47fa9d-eeeb-4008-c655-1608068c9dea",
        "colab": {
          "base_uri": "https://localhost:8080/",
          "height": 297
        }
      },
      "outputs": [
        {
          "output_type": "display_data",
          "data": {
            "image/png": "[encoded data removed]",
            "text/plain": [
              "<Figure size 720x288 with 2 Axes>"
            ]
          },
          "metadata": {
            "needs_background": "light"
          }
        }
      ],
      "source": [
        "%matplotlib inline\n",
        "\n",
        "@np.vectorize\n",
        "def price_surface(S_, t_):\n",
        "    return mibian.BS([S_, 90, 0.05*100, (T-t_)*365], volatility = 0.3*100).callPrice\n",
        "\n",
        "@np.vectorize\n",
        "def price_surface_delta_hedged(S_, t_):\n",
        "    option = mibian.BS([S_, 90, 0.05*100, (T-t_)*365], volatility = 0.3*100).callPrice\n",
        "    return option - (delta*S_ - (delta*S0)*np.exp(r*t_))\n",
        "\n",
        "\n",
        "S_lattice = np.linspace(S_1D.min(), S_1D.max(), 20)\n",
        "t_lattice = np.linspace(0, dt, 20)\n",
        "\n",
        "S, t = np.meshgrid(S_lattice, t_lattice)\n",
        "V = price_surface(S, t)\n",
        "Vh = price_surface_delta_hedged(S, t)\n",
        "\n",
        "zmin, zmax = min(Vh.min(),V.min()) - V_0, max(Vh.max(), V.max()) - V_0\n",
        "\n",
        "fig = plt.figure(figsize=(10, 4))\n",
        "ax1 = fig.add_subplot(121,projection='3d')\n",
        "\n",
        "ax1.plot_surface(S - S0, t, V - V_0, cmap='magma')\n",
        "ax1.set_xlabel('$S_t$')\n",
        "ax1.set_ylabel('$T$')\n",
        "ax1.set_zlabel('Value change')\n",
        "ax1.set_title('Unhedged portfolio')\n",
        "ax1.set_zlim(zmin, zmax)\n",
        "\n",
        "ax2 = fig.add_subplot(122,projection='3d')\n",
        "\n",
        "ax2.plot_surface(S - S0, t, Vh - V_0, cmap='magma')\n",
        "ax2.set_xlabel('$S_t$')\n",
        "ax2.set_ylabel('$T$')\n",
        "ax2.set_zlabel('Value change')\n",
        "ax2.set_title('Hedged portfolio')\n",
        "ax2.set_zlim(zmin, zmax)\n",
        "\n",
        "plt.tight_layout()"
      ]
    },
    {
      "cell_type": "code",
      "source": [
        "fig = make_subplots(rows=1, cols=2,\n",
        "                    specs=[[{'is_3d': True}, {'is_3d': True}]],\n",
        "                    subplot_titles=['Unhedged', 'Hedged'])\n",
        "\n",
        "fig.add_trace(go.Surface(x=S-S0, y=t, z=V-V_0, cmin=zmin, cmid=0.0, cmax = zmax, colorscale='rdylgn'), 1, 1)\n",
        "fig.add_trace(go.Surface(x=S-S0, y=t, z=Vh-V_0, cmin=zmin, cmid=0.0, cmax = zmax, colorscale='rdylgn'), 1, 2)\n",
        "fig.update_layout(scene = dict(\n",
        "                    xaxis_title='dS',\n",
        "                    yaxis_title='dt',\n",
        "                    zaxis_title='dV'))\n",
        "\n",
        "fig.show()"
      ],
      "metadata": {
        "id": "FsSWFeTIjmZ8",
        "outputId": "6fa9e47f-6870-4114-d92a-61a17404ac28",
        "colab": {
          "base_uri": "https://localhost:8080/",
          "height": 542
        }
      },
      "id": "FsSWFeTIjmZ8",
      "execution_count": 85,
      "outputs": [
        {
          "output_type": "display_data",
          "data": {
            "text/html": [
              "<html>\n",
              "<head><meta charset=\"utf-8\" /></head>\n",
              "<body>\n",
              "    <div>\n",
              "            <script src=\"https://cdnjs.cloudflare.com/ajax/libs/mathjax/2.7.5/MathJax.js?config=TeX-AMS-MML_SVG\"></script><script type=\"text/javascript\">if (window.MathJax) {MathJax.Hub.Config({SVG: {font: \"STIX-Web\"}});}</script>\n",
              "                <script type=\"text/javascript\">window.PlotlyConfig = {MathJaxConfig: 'local'};</script>\n",
              "        <script src=\"https://cdn.plot.ly/plotly-latest.min.js\"></script>    \n",
              "            <div id=\"1ffc2fb7-2833-4943-94d6-3fa5a837bce5\" class=\"plotly-graph-div\" style=\"height:525px; width:100%;\"></div>\n",
              "            <script type=\"text/javascript\">\n",
              "                \n",
              "                    window.PLOTLYENV=window.PLOTLYENV || {};\n",
              "                    \n",
              "                if (document.getElementById(\"1ffc2fb7-2833-4943-94d6-3fa5a837bce5\")) {\n",
              "                    Plotly.newPlot(\n",
              "                        '1ffc2fb7-2833-4943-94d6-3fa5a837bce5',\n",
              "                        [{\"cmax\": 3.4250045270075944, \"cmid\": 0.0, \"cmin\": -2.1862058674891713, \"colorscale\": [[0.0, \"rgb(165,0,38)\"], [0.1, \"rgb(215,48,39)\"], [0.2, \"rgb(244,109,67)\"], [0.3, \"rgb(253,174,97)\"], [0.4, \"rgb(254,224,139)\"], [0.5, \"rgb(255,255,191)\"], [0.6, \"rgb(217,239,139)\"], [0.7, \"rgb(166,217,106)\"], [0.8, \"rgb(102,189,99)\"], [0.9, \"rgb(26,152,80)\"], [1.0, \"rgb(0,104,55)\"]], \"scene\": \"scene\", \"type\": \"surface\", \"x\": [[-9.50175200063181, -8.524303462027866, -7.546854923423915, -6.56940638481997, -5.591957846216019, -4.614509307612082, -3.63706076900813, -2.6596122304041927, -1.6821636918002412, -0.7047151531962896, 0.2727333854076477, 1.2501819240115992, 2.2276304626155508, 3.205079001219488, 4.18252753982344, 5.159976078427377, 6.1374246170313285, 7.11487315563528, 8.092321694239217, 9.069770232843169], [-9.50175200063181, -8.524303462027866, -7.546854923423915, -6.56940638481997, -5.591957846216019, -4.614509307612082, -3.63706076900813, -2.6596122304041927, -1.6821636918002412, -0.7047151531962896, 0.2727333854076477, 1.2501819240115992, 2.2276304626155508, 3.205079001219488, 4.18252753982344, 5.159976078427377, 6.1374246170313285, 7.11487315563528, 8.092321694239217, 9.069770232843169], [-9.50175200063181, -8.524303462027866, -7.546854923423915, -6.56940638481997, -5.591957846216019, -4.614509307612082, -3.63706076900813, -2.6596122304041927, -1.6821636918002412, -0.7047151531962896, 0.2727333854076477, 1.2501819240115992, 2.2276304626155508, 3.205079001219488, 4.18252753982344, 5.159976078427377, 6.1374246170313285, 7.11487315563528, 8.092321694239217, 9.069770232843169], [-9.50175200063181, -8.524303462027866, -7.546854923423915, -6.56940638481997, -5.591957846216019, -4.614509307612082, -3.63706076900813, -2.6596122304041927, -1.6821636918002412, -0.7047151531962896, 0.2727333854076477, 1.2501819240115992, 2.2276304626155508, 3.205079001219488, 4.18252753982344, 5.159976078427377, 6.1374246170313285, 7.11487315563528, 8.092321694239217, 9.069770232843169], [-9.50175200063181, -8.524303462027866, -7.546854923423915, -6.56940638481997, -5.591957846216019, -4.614509307612082, -3.63706076900813, -2.6596122304041927, -1.6821636918002412, -0.7047151531962896, 0.2727333854076477, 1.2501819240115992, 2.2276304626155508, 3.205079001219488, 4.18252753982344, 5.159976078427377, 6.1374246170313285, 7.11487315563528, 8.092321694239217, 9.069770232843169], [-9.50175200063181, -8.524303462027866, -7.546854923423915, -6.56940638481997, -5.591957846216019, -4.614509307612082, -3.63706076900813, -2.6596122304041927, -1.6821636918002412, -0.7047151531962896, 0.2727333854076477, 1.2501819240115992, 2.2276304626155508, 3.205079001219488, 4.18252753982344, 5.159976078427377, 6.1374246170313285, 7.11487315563528, 8.092321694239217, 9.069770232843169], [-9.50175200063181, -8.524303462027866, -7.546854923423915, -6.56940638481997, -5.591957846216019, -4.614509307612082, -3.63706076900813, -2.6596122304041927, -1.6821636918002412, -0.7047151531962896, 0.2727333854076477, 1.2501819240115992, 2.2276304626155508, 3.205079001219488, 4.18252753982344, 5.159976078427377, 6.1374246170313285, 7.11487315563528, 8.092321694239217, 9.069770232843169], [-9.50175200063181, -8.524303462027866, -7.546854923423915, -6.56940638481997, -5.591957846216019, -4.614509307612082, -3.63706076900813, -2.6596122304041927, -1.6821636918002412, -0.7047151531962896, 0.2727333854076477, 1.2501819240115992, 2.2276304626155508, 3.205079001219488, 4.18252753982344, 5.159976078427377, 6.1374246170313285, 7.11487315563528, 8.092321694239217, 9.069770232843169], [-9.50175200063181, -8.524303462027866, -7.546854923423915, -6.56940638481997, -5.591957846216019, -4.614509307612082, -3.63706076900813, -2.6596122304041927, -1.6821636918002412, -0.7047151531962896, 0.2727333854076477, 1.2501819240115992, 2.2276304626155508, 3.205079001219488, 4.18252753982344, 5.159976078427377, 6.1374246170313285, 7.11487315563528, 8.092321694239217, 9.069770232843169], [-9.50175200063181, -8.524303462027866, -7.546854923423915, -6.56940638481997, -5.591957846216019, -4.614509307612082, -3.63706076900813, -2.6596122304041927, -1.6821636918002412, -0.7047151531962896, 0.2727333854076477, 1.2501819240115992, 2.2276304626155508, 3.205079001219488, 4.18252753982344, 5.159976078427377, 6.1374246170313285, 7.11487315563528, 8.092321694239217, 9.069770232843169], [-9.50175200063181, -8.524303462027866, -7.546854923423915, -6.56940638481997, -5.591957846216019, -4.614509307612082, -3.63706076900813, -2.6596122304041927, -1.6821636918002412, -0.7047151531962896, 0.2727333854076477, 1.2501819240115992, 2.2276304626155508, 3.205079001219488, 4.18252753982344, 5.159976078427377, 6.1374246170313285, 7.11487315563528, 8.092321694239217, 9.069770232843169], [-9.50175200063181, -8.524303462027866, -7.546854923423915, -6.56940638481997, -5.591957846216019, -4.614509307612082, -3.63706076900813, -2.6596122304041927, -1.6821636918002412, -0.7047151531962896, 0.2727333854076477, 1.2501819240115992, 2.2276304626155508, 3.205079001219488, 4.18252753982344, 5.159976078427377, 6.1374246170313285, 7.11487315563528, 8.092321694239217, 9.069770232843169], [-9.50175200063181, -8.524303462027866, -7.546854923423915, -6.56940638481997, -5.591957846216019, -4.614509307612082, -3.63706076900813, -2.6596122304041927, -1.6821636918002412, -0.7047151531962896, 0.2727333854076477, 1.2501819240115992, 2.2276304626155508, 3.205079001219488, 4.18252753982344, 5.159976078427377, 6.1374246170313285, 7.11487315563528, 8.092321694239217, 9.069770232843169], [-9.50175200063181, -8.524303462027866, -7.546854923423915, -6.56940638481997, -5.591957846216019, -4.614509307612082, -3.63706076900813, -2.6596122304041927, -1.6821636918002412, -0.7047151531962896, 0.2727333854076477, 1.2501819240115992, 2.2276304626155508, 3.205079001219488, 4.18252753982344, 5.159976078427377, 6.1374246170313285, 7.11487315563528, 8.092321694239217, 9.069770232843169], [-9.50175200063181, -8.524303462027866, -7.546854923423915, -6.56940638481997, -5.591957846216019, -4.614509307612082, -3.63706076900813, -2.6596122304041927, -1.6821636918002412, -0.7047151531962896, 0.2727333854076477, 1.2501819240115992, 2.2276304626155508, 3.205079001219488, 4.18252753982344, 5.159976078427377, 6.1374246170313285, 7.11487315563528, 8.092321694239217, 9.069770232843169], [-9.50175200063181, -8.524303462027866, -7.546854923423915, -6.56940638481997, -5.591957846216019, -4.614509307612082, -3.63706076900813, -2.6596122304041927, -1.6821636918002412, -0.7047151531962896, 0.2727333854076477, 1.2501819240115992, 2.2276304626155508, 3.205079001219488, 4.18252753982344, 5.159976078427377, 6.1374246170313285, 7.11487315563528, 8.092321694239217, 9.069770232843169], [-9.50175200063181, -8.524303462027866, -7.546854923423915, -6.56940638481997, -5.591957846216019, -4.614509307612082, -3.63706076900813, -2.6596122304041927, -1.6821636918002412, -0.7047151531962896, 0.2727333854076477, 1.2501819240115992, 2.2276304626155508, 3.205079001219488, 4.18252753982344, 5.159976078427377, 6.1374246170313285, 7.11487315563528, 8.092321694239217, 9.069770232843169], [-9.50175200063181, -8.524303462027866, -7.546854923423915, -6.56940638481997, -5.591957846216019, -4.614509307612082, -3.63706076900813, -2.6596122304041927, -1.6821636918002412, -0.7047151531962896, 0.2727333854076477, 1.2501819240115992, 2.2276304626155508, 3.205079001219488, 4.18252753982344, 5.159976078427377, 6.1374246170313285, 7.11487315563528, 8.092321694239217, 9.069770232843169], [-9.50175200063181, -8.524303462027866, -7.546854923423915, -6.56940638481997, -5.591957846216019, -4.614509307612082, -3.63706076900813, -2.6596122304041927, -1.6821636918002412, -0.7047151531962896, 0.2727333854076477, 1.2501819240115992, 2.2276304626155508, 3.205079001219488, 4.18252753982344, 5.159976078427377, 6.1374246170313285, 7.11487315563528, 8.092321694239217, 9.069770232843169], [-9.50175200063181, -8.524303462027866, -7.546854923423915, -6.56940638481997, -5.591957846216019, -4.614509307612082, -3.63706076900813, -2.6596122304041927, -1.6821636918002412, -0.7047151531962896, 0.2727333854076477, 1.2501819240115992, 2.2276304626155508, 3.205079001219488, 4.18252753982344, 5.159976078427377, 6.1374246170313285, 7.11487315563528, 8.092321694239217, 9.069770232843169]], \"y\": [[0.0, 0.0, 0.0, 0.0, 0.0, 0.0, 0.0, 0.0, 0.0, 0.0, 0.0, 0.0, 0.0, 0.0, 0.0, 0.0, 0.0, 0.0, 0.0, 0.0], [0.0007209805335255948, 0.0007209805335255948, 0.0007209805335255948, 0.0007209805335255948, 0.0007209805335255948, 0.0007209805335255948, 0.0007209805335255948, 0.0007209805335255948, 0.0007209805335255948, 0.0007209805335255948, 0.0007209805335255948, 0.0007209805335255948, 0.0007209805335255948, 0.0007209805335255948, 0.0007209805335255948, 0.0007209805335255948, 0.0007209805335255948, 0.0007209805335255948, 0.0007209805335255948, 0.0007209805335255948], [0.0014419610670511895, 0.0014419610670511895, 0.0014419610670511895, 0.0014419610670511895, 0.0014419610670511895, 0.0014419610670511895, 0.0014419610670511895, 0.0014419610670511895, 0.0014419610670511895, 0.0014419610670511895, 0.0014419610670511895, 0.0014419610670511895, 0.0014419610670511895, 0.0014419610670511895, 0.0014419610670511895, 0.0014419610670511895, 0.0014419610670511895, 0.0014419610670511895, 0.0014419610670511895, 0.0014419610670511895], [0.0021629416005767843, 0.0021629416005767843, 0.0021629416005767843, 0.0021629416005767843, 0.0021629416005767843, 0.0021629416005767843, 0.0021629416005767843, 0.0021629416005767843, 0.0021629416005767843, 0.0021629416005767843, 0.0021629416005767843, 0.0021629416005767843, 0.0021629416005767843, 0.0021629416005767843, 0.0021629416005767843, 0.0021629416005767843, 0.0021629416005767843, 0.0021629416005767843, 0.0021629416005767843, 0.0021629416005767843], [0.002883922134102379, 0.002883922134102379, 0.002883922134102379, 0.002883922134102379, 0.002883922134102379, 0.002883922134102379, 0.002883922134102379, 0.002883922134102379, 0.002883922134102379, 0.002883922134102379, 0.002883922134102379, 0.002883922134102379, 0.002883922134102379, 0.002883922134102379, 0.002883922134102379, 0.002883922134102379, 0.002883922134102379, 0.002883922134102379, 0.002883922134102379, 0.002883922134102379], [0.003604902667627974, 0.003604902667627974, 0.003604902667627974, 0.003604902667627974, 0.003604902667627974, 0.003604902667627974, 0.003604902667627974, 0.003604902667627974, 0.003604902667627974, 0.003604902667627974, 0.003604902667627974, 0.003604902667627974, 0.003604902667627974, 0.003604902667627974, 0.003604902667627974, 0.003604902667627974, 0.003604902667627974, 0.003604902667627974, 0.003604902667627974, 0.003604902667627974], [0.004325883201153569, 0.004325883201153569, 0.004325883201153569, 0.004325883201153569, 0.004325883201153569, 0.004325883201153569, 0.004325883201153569, 0.004325883201153569, 0.004325883201153569, 0.004325883201153569, 0.004325883201153569, 0.004325883201153569, 0.004325883201153569, 0.004325883201153569, 0.004325883201153569, 0.004325883201153569, 0.004325883201153569, 0.004325883201153569, 0.004325883201153569, 0.004325883201153569], [0.005046863734679163, 0.005046863734679163, 0.005046863734679163, 0.005046863734679163, 0.005046863734679163, 0.005046863734679163, 0.005046863734679163, 0.005046863734679163, 0.005046863734679163, 0.005046863734679163, 0.005046863734679163, 0.005046863734679163, 0.005046863734679163, 0.005046863734679163, 0.005046863734679163, 0.005046863734679163, 0.005046863734679163, 0.005046863734679163, 0.005046863734679163, 0.005046863734679163], [0.005767844268204758, 0.005767844268204758, 0.005767844268204758, 0.005767844268204758, 0.005767844268204758, 0.005767844268204758, 0.005767844268204758, 0.005767844268204758, 0.005767844268204758, 0.005767844268204758, 0.005767844268204758, 0.005767844268204758, 0.005767844268204758, 0.005767844268204758, 0.005767844268204758, 0.005767844268204758, 0.005767844268204758, 0.005767844268204758, 0.005767844268204758, 0.005767844268204758], [0.006488824801730353, 0.006488824801730353, 0.006488824801730353, 0.006488824801730353, 0.006488824801730353, 0.006488824801730353, 0.006488824801730353, 0.006488824801730353, 0.006488824801730353, 0.006488824801730353, 0.006488824801730353, 0.006488824801730353, 0.006488824801730353, 0.006488824801730353, 0.006488824801730353, 0.006488824801730353, 0.006488824801730353, 0.006488824801730353, 0.006488824801730353, 0.006488824801730353], [0.007209805335255948, 0.007209805335255948, 0.007209805335255948, 0.007209805335255948, 0.007209805335255948, 0.007209805335255948, 0.007209805335255948, 0.007209805335255948, 0.007209805335255948, 0.007209805335255948, 0.007209805335255948, 0.007209805335255948, 0.007209805335255948, 0.007209805335255948, 0.007209805335255948, 0.007209805335255948, 0.007209805335255948, 0.007209805335255948, 0.007209805335255948, 0.007209805335255948], [0.007930785868781542, 0.007930785868781542, 0.007930785868781542, 0.007930785868781542, 0.007930785868781542, 0.007930785868781542, 0.007930785868781542, 0.007930785868781542, 0.007930785868781542, 0.007930785868781542, 0.007930785868781542, 0.007930785868781542, 0.007930785868781542, 0.007930785868781542, 0.007930785868781542, 0.007930785868781542, 0.007930785868781542, 0.007930785868781542, 0.007930785868781542, 0.007930785868781542], [0.008651766402307137, 0.008651766402307137, 0.008651766402307137, 0.008651766402307137, 0.008651766402307137, 0.008651766402307137, 0.008651766402307137, 0.008651766402307137, 0.008651766402307137, 0.008651766402307137, 0.008651766402307137, 0.008651766402307137, 0.008651766402307137, 0.008651766402307137, 0.008651766402307137, 0.008651766402307137, 0.008651766402307137, 0.008651766402307137, 0.008651766402307137, 0.008651766402307137], [0.009372746935832732, 0.009372746935832732, 0.009372746935832732, 0.009372746935832732, 0.009372746935832732, 0.009372746935832732, 0.009372746935832732, 0.009372746935832732, 0.009372746935832732, 0.009372746935832732, 0.009372746935832732, 0.009372746935832732, 0.009372746935832732, 0.009372746935832732, 0.009372746935832732, 0.009372746935832732, 0.009372746935832732, 0.009372746935832732, 0.009372746935832732, 0.009372746935832732], [0.010093727469358327, 0.010093727469358327, 0.010093727469358327, 0.010093727469358327, 0.010093727469358327, 0.010093727469358327, 0.010093727469358327, 0.010093727469358327, 0.010093727469358327, 0.010093727469358327, 0.010093727469358327, 0.010093727469358327, 0.010093727469358327, 0.010093727469358327, 0.010093727469358327, 0.010093727469358327, 0.010093727469358327, 0.010093727469358327, 0.010093727469358327, 0.010093727469358327], [0.010814708002883922, 0.010814708002883922, 0.010814708002883922, 0.010814708002883922, 0.010814708002883922, 0.010814708002883922, 0.010814708002883922, 0.010814708002883922, 0.010814708002883922, 0.010814708002883922, 0.010814708002883922, 0.010814708002883922, 0.010814708002883922, 0.010814708002883922, 0.010814708002883922, 0.010814708002883922, 0.010814708002883922, 0.010814708002883922, 0.010814708002883922, 0.010814708002883922], [0.011535688536409516, 0.011535688536409516, 0.011535688536409516, 0.011535688536409516, 0.011535688536409516, 0.011535688536409516, 0.011535688536409516, 0.011535688536409516, 0.011535688536409516, 0.011535688536409516, 0.011535688536409516, 0.011535688536409516, 0.011535688536409516, 0.011535688536409516, 0.011535688536409516, 0.011535688536409516, 0.011535688536409516, 0.011535688536409516, 0.011535688536409516, 0.011535688536409516], [0.012256669069935111, 0.012256669069935111, 0.012256669069935111, 0.012256669069935111, 0.012256669069935111, 0.012256669069935111, 0.012256669069935111, 0.012256669069935111, 0.012256669069935111, 0.012256669069935111, 0.012256669069935111, 0.012256669069935111, 0.012256669069935111, 0.012256669069935111, 0.012256669069935111, 0.012256669069935111, 0.012256669069935111, 0.012256669069935111, 0.012256669069935111, 0.012256669069935111], [0.012977649603460706, 0.012977649603460706, 0.012977649603460706, 0.012977649603460706, 0.012977649603460706, 0.012977649603460706, 0.012977649603460706, 0.012977649603460706, 0.012977649603460706, 0.012977649603460706, 0.012977649603460706, 0.012977649603460706, 0.012977649603460706, 0.012977649603460706, 0.012977649603460706, 0.012977649603460706, 0.012977649603460706, 0.012977649603460706, 0.012977649603460706, 0.012977649603460706], [0.0136986301369863, 0.0136986301369863, 0.0136986301369863, 0.0136986301369863, 0.0136986301369863, 0.0136986301369863, 0.0136986301369863, 0.0136986301369863, 0.0136986301369863, 0.0136986301369863, 0.0136986301369863, 0.0136986301369863, 0.0136986301369863, 0.0136986301369863, 0.0136986301369863, 0.0136986301369863, 0.0136986301369863, 0.0136986301369863, 0.0136986301369863, 0.0136986301369863]], \"z\": [[-2.150855035340131, -1.99110070750117, -1.8182361469824198, -1.6318215676155923, -1.4314473342844725, -1.216735547430405, -0.9873413206350925, -0.7429537571760516, -0.4832966349109853, -0.208128811793987, 0.08275563323360657, 0.38952750728079977, 0.7123228402825923, 1.051243432257646, 1.406357591116656, 1.7777010407687328, 2.1652779792629246, 2.5690622669650374, 2.988998725265823, 3.4250045270075944], [-2.1527211805863047, -1.9931071358403667, -1.8203852907885292, -1.6341153017506773, -1.4338869692080838, -1.2193218279492672, -0.9900744299945146, -0.7458333261367471, -0.4863217554099304, -0.21129805475438346, 0.07944419640118738, 0.3860762799568924, 0.7087346731715627, 1.0475215936452678, 1.4025057353122214, 1.7737231751743323, 2.161178430491006, 2.5648456463995046, 2.9846698944337398, 3.4205685630973797], [-2.1545867124714544, -1.995113002649198, -1.8225339320475626, -1.6364085990002177, -1.4363262390363012, -1.2219078206781564, -0.9928073337187566, -0.7487127757596994, -0.489346846275188, -0.21446736043758463, 0.07613260259858734, 0.38262480028335233, 0.7051461579461602, 1.043799311494773, 1.3986533415851348, 1.7697446789754814, 2.1570781607587897, 2.5606282174221597, 2.980340171172287, 3.416131626652529], [-2.1564516299268757, -1.997118306861779, -1.8246820697113293, -1.6387014583483008, -1.4387651427999923, -1.2244935247085564, -0.9955400309730269, -0.7515921052959609, -0.4923719068545971, -0.21763672829795055, 0.07282085225658363, 0.37917306856926913, 0.7015572947884579, 1.0400765858574488, 1.394800409853616, 1.7657655519565942, 2.1529771697176585, 2.5564099795534254, 2.976009554874409, 3.4116937169431694], [-2.1583159318819423, -1.9991230474102615, -1.8268297027294942, -1.6409938787769427, -1.4412036795279235, -1.2270789391298713, -0.9982725209204801, -0.7544713139945927, -0.4953969364941937, -0.22080615778816792, 0.06950894580748113, 0.3757210851250363, 0.6979680838816016, 1.0363534167853423, 1.390946940036386, 1.761785793902316, 2.1488754570189066, 2.5521909323133833, 2.9716780449324425, 3.407254833238543], [-2.1601796172642427, -2.001127223224831, -1.828976830049717, -1.643285859266049, -1.4436418482467275, -1.2296640630294053, -1.0010048027222425, -0.7573504011027534, -0.4984219345381735, -0.22397564835928918, 0.06619688368503063, 0.37226885026228373, 0.694378525409725, 1.032629804331279, 1.3870929320526741, 1.7578054045975406, 2.1447730223137604, 2.5479710752217777, 2.967345640738042, 3.4028149748069865], [-2.1620426849994896, -2.0031308332337154, -1.8311234506175893, -1.6455773987933888, -1.446079647980877, -1.232248895492349, -1.0037368755373812, -0.7602293658656016, -0.5014469003288688, -0.2271451994606437, 0.06288466632447864, 0.36881636429394504, 0.6907886195580097, 1.0289057485488726, 1.3832383858222137, 1.753824383827336, 2.1406698652534146, 2.5437504077979796, 2.9630123416822975, 3.3983741409159265], [-2.1639051340115394, -2.0051338763631428, -1.8332695633766196, -1.6478684963346293, -1.4485170777527685, -1.2348334356017467, -1.0064687385228872, -0.7631082075263436, -0.5044718332068463, -0.23031481053991953, 0.059572294162556716, 0.3653636275341938, 0.6871983665126749, 1.025181249492487, 1.379383301265225, 1.7498427313770257, 2.1365659854889643, 2.5395289295610297, 2.958678147155613, 3.3939323308318343], [-2.165766963222387, -2.0071363515373903, -1.835415167268291, -1.6501591508633293, -1.4509541365826095, -1.2374176824385543, -1.0092003908337226, -0.7659869253262048, -0.5074967325107522, -0.23348448104311004, 0.05625976763749918, 0.3619106402985217, 0.683607766460991, 1.02145630721731, 1.3755276783025003, 1.7458604470321966, 2.1324613826714796, 2.5353066400296207, 2.9543430565477884, 3.3894895438203427], [-2.1676281715522006, -2.009138257678721, -1.8375602612319586, -1.652449361350886, -1.4533908234884798, -1.240001635081601, -1.0119318316227375, -0.7688655185044411, -0.5105215975774176, -0.23665421041450685, 0.05294708718902186, 0.35845740290362826, 0.6800168195912377, 1.0177309217792718, 1.3716715168552653, 1.7418775305785879, 2.128356056451956, 2.5310835387221005, 2.9500070692479703, 3.385045779146111], [-2.1694887579192557, -2.0111395937074494, -1.8397048442049488, -1.654739126766593, -1.4558271374862972, -1.242585292607549, -1.014663060040725, -0.7717439862983184, -0.5135464277418311, -0.23982399809672472, 0.04963425325838955, 0.3550039156675986, 0.6764255260927818, 1.0140050932351343, 1.3678148168453284, 1.7378939818022552, 2.1242500064813576, 2.5268596251564794, 2.9456701846446833, 3.3806010360729033], [-2.171348721239962, -2.0131403585418646, -1.841848915122462, -1.6570284460775841, -1.4582630775898284, -1.2451686540909588, -1.0173940752363908, -0.7746223279431206, -0.5165712223370775, -0.2429938435306589, 0.04632126628831301, 0.3515501789097435, 0.6728338861560168, 1.0102788216424088, 1.3639575781949809, 1.7339098004894318, 2.120143232410559, 2.5226348988503773, 2.9413324021258056, 3.3761553138635776], [-2.173208060428891, -2.0151405510982823, -1.843992472917657, -1.659317318248858, -1.4606986428106818, -1.247751718604226, -1.0201248763563715, -0.777500542672124, -0.5195959806944082, -0.24616374615549574, 0.0430081267230662, 0.34809619295069183, 0.6692418999724055, 1.0065521070594485, 1.3600998008270473, 1.7299249864266102, 2.1160357338903957, 2.518409359321126, 2.9369937210786006, 3.37170861178004], [-2.175066774398694, -2.017140170291013, -1.846135516521569, -1.6616057422432853, -1.4631338321582898, -1.2503344852176141, -1.022855462545163, -0.780378629716628, -0.522620702143195, -0.24933370540875543, 0.03969483500842941, 0.3446419581123763, 0.6656495677344587, 1.0028249495453778, 1.3562414846648636, 1.7259395394005175, 2.111927510571668, 2.5141830060856805, 2.932654140889678, 3.3672609290833044], [-2.1769248620601953, -2.019139215032361, -1.848278044863136, -1.6638937170215478, -1.4655686446399034, -1.252916952999179, -1.025585832945211, -0.7832565883058766, -0.5256453860109289, -0.2525037207261711, 0.036381391591717716, 0.34118747471801925, 0.6620568896357781, 0.9990973491601061, 1.3523826296323271, 1.7219534591981294, 2.107818562105109, 2.509955838660666, 2.928313660945019, 3.3628122650334618], [-2.1787823223222915, -2.0211376842326256, -1.8504200568692308, -1.6661812415421764, -1.4680030792606171, -1.2554991210148927, -1.0283159866968337, -0.7861344176671654, -0.5286700316232036, -0.2556737915418239, 0.03306779692174189, 0.3377327430921824, 0.6584638658709849, 0.9953693059644131, 1.348523235653829, 1.7179667456066632, 2.103708888141391, 2.505727856562334, 2.9239722806299433, 3.3583626188896645], [-2.180639154092038, -2.023135576800101, -1.852561551464568, -1.668468314761549, -1.4704371350233174, -1.2580809883285031, -1.0310459229382136, -0.7890121170257025, -0.5316946383037369, -0.25884391728799017, 0.029754051448893648, 0.33427776356073835, 0.6548704966358407, 0.9916408200198177, 1.3446633026543076, 1.7139793984135885, 2.099598488331168, 2.501499059306635, 2.9196299993291888, 3.3539119899101806], [-2.1824953562745666, -2.0251328916410642, -1.854702527571801, -1.6707549356338838, -1.472870810928713, -1.2606625540015948, -1.0337756408054695, -0.7918896856047315, -0.5347192053743655, -0.2620140973952907, 0.02644015562508173, 0.3308225364508388, 0.651276782127109, 0.9879118913886984, 1.3408028305592516, 1.7099914174065738, 2.0954873623250165, 2.4972694464091383, 2.9152868164268, 3.349460377352269], [-2.1843509277731563, -2.027129627659768, -1.8568429841114362, -1.6730411031112116, -1.4753041059753098, -1.2632438170935991, -1.036505139432549, -0.7947671226254194, -0.5377437321549827, -0.2651843312925557, 0.02312610990375319, 0.3273670620910174, 0.6476827225426973, 0.9841825201342438, 1.3369418192946583, 1.706002802373618, 2.0913755097734885, 2.4930390173850974, 2.9109427313062213, 3.345007780472365], [-2.1862058674891713, -2.0291257837584347, -1.8589829200018766, -1.6753268161433628, -1.4777370191594308, -1.26582477666172, -1.039234417951299, -0.7976444273069294, -0.5407682179636062, -0.26835461840688524, 0.019811914739921832, 0.3239113408110974, 0.6440883180815575, 0.9804527063204453, 1.3330802687870893, 1.7020135531029084, 2.0872629303270855, 2.488807771749393, 2.906597743350222, 3.340554198525897]]}, {\"cmax\": 3.4250045270075944, \"cmid\": 0.0, \"cmin\": -2.1862058674891713, \"colorscale\": [[0.0, \"rgb(165,0,38)\"], [0.1, \"rgb(215,48,39)\"], [0.2, \"rgb(244,109,67)\"], [0.3, \"rgb(253,174,97)\"], [0.4, \"rgb(254,224,139)\"], [0.5, \"rgb(255,255,191)\"], [0.6, \"rgb(217,239,139)\"], [0.7, \"rgb(166,217,106)\"], [0.8, \"rgb(102,189,99)\"], [0.9, \"rgb(26,152,80)\"], [1.0, \"rgb(0,104,55)\"]], \"scene\": \"scene2\", \"type\": \"surface\", \"x\": [[-9.50175200063181, -8.524303462027866, -7.546854923423915, -6.56940638481997, -5.591957846216019, -4.614509307612082, -3.63706076900813, -2.6596122304041927, -1.6821636918002412, -0.7047151531962896, 0.2727333854076477, 1.2501819240115992, 2.2276304626155508, 3.205079001219488, 4.18252753982344, 5.159976078427377, 6.1374246170313285, 7.11487315563528, 8.092321694239217, 9.069770232843169], [-9.50175200063181, -8.524303462027866, -7.546854923423915, -6.56940638481997, -5.591957846216019, -4.614509307612082, -3.63706076900813, -2.6596122304041927, -1.6821636918002412, -0.7047151531962896, 0.2727333854076477, 1.2501819240115992, 2.2276304626155508, 3.205079001219488, 4.18252753982344, 5.159976078427377, 6.1374246170313285, 7.11487315563528, 8.092321694239217, 9.069770232843169], [-9.50175200063181, -8.524303462027866, -7.546854923423915, -6.56940638481997, -5.591957846216019, -4.614509307612082, -3.63706076900813, -2.6596122304041927, -1.6821636918002412, -0.7047151531962896, 0.2727333854076477, 1.2501819240115992, 2.2276304626155508, 3.205079001219488, 4.18252753982344, 5.159976078427377, 6.1374246170313285, 7.11487315563528, 8.092321694239217, 9.069770232843169], [-9.50175200063181, -8.524303462027866, -7.546854923423915, -6.56940638481997, -5.591957846216019, -4.614509307612082, -3.63706076900813, -2.6596122304041927, -1.6821636918002412, -0.7047151531962896, 0.2727333854076477, 1.2501819240115992, 2.2276304626155508, 3.205079001219488, 4.18252753982344, 5.159976078427377, 6.1374246170313285, 7.11487315563528, 8.092321694239217, 9.069770232843169], [-9.50175200063181, -8.524303462027866, -7.546854923423915, -6.56940638481997, -5.591957846216019, -4.614509307612082, -3.63706076900813, -2.6596122304041927, -1.6821636918002412, -0.7047151531962896, 0.2727333854076477, 1.2501819240115992, 2.2276304626155508, 3.205079001219488, 4.18252753982344, 5.159976078427377, 6.1374246170313285, 7.11487315563528, 8.092321694239217, 9.069770232843169], [-9.50175200063181, -8.524303462027866, -7.546854923423915, -6.56940638481997, -5.591957846216019, -4.614509307612082, -3.63706076900813, -2.6596122304041927, -1.6821636918002412, -0.7047151531962896, 0.2727333854076477, 1.2501819240115992, 2.2276304626155508, 3.205079001219488, 4.18252753982344, 5.159976078427377, 6.1374246170313285, 7.11487315563528, 8.092321694239217, 9.069770232843169], [-9.50175200063181, -8.524303462027866, -7.546854923423915, -6.56940638481997, -5.591957846216019, -4.614509307612082, -3.63706076900813, -2.6596122304041927, -1.6821636918002412, -0.7047151531962896, 0.2727333854076477, 1.2501819240115992, 2.2276304626155508, 3.205079001219488, 4.18252753982344, 5.159976078427377, 6.1374246170313285, 7.11487315563528, 8.092321694239217, 9.069770232843169], [-9.50175200063181, -8.524303462027866, -7.546854923423915, -6.56940638481997, -5.591957846216019, -4.614509307612082, -3.63706076900813, -2.6596122304041927, -1.6821636918002412, -0.7047151531962896, 0.2727333854076477, 1.2501819240115992, 2.2276304626155508, 3.205079001219488, 4.18252753982344, 5.159976078427377, 6.1374246170313285, 7.11487315563528, 8.092321694239217, 9.069770232843169], [-9.50175200063181, -8.524303462027866, -7.546854923423915, -6.56940638481997, -5.591957846216019, -4.614509307612082, -3.63706076900813, -2.6596122304041927, -1.6821636918002412, -0.7047151531962896, 0.2727333854076477, 1.2501819240115992, 2.2276304626155508, 3.205079001219488, 4.18252753982344, 5.159976078427377, 6.1374246170313285, 7.11487315563528, 8.092321694239217, 9.069770232843169], [-9.50175200063181, -8.524303462027866, -7.546854923423915, -6.56940638481997, -5.591957846216019, -4.614509307612082, -3.63706076900813, -2.6596122304041927, -1.6821636918002412, -0.7047151531962896, 0.2727333854076477, 1.2501819240115992, 2.2276304626155508, 3.205079001219488, 4.18252753982344, 5.159976078427377, 6.1374246170313285, 7.11487315563528, 8.092321694239217, 9.069770232843169], [-9.50175200063181, -8.524303462027866, -7.546854923423915, -6.56940638481997, -5.591957846216019, -4.614509307612082, -3.63706076900813, -2.6596122304041927, -1.6821636918002412, -0.7047151531962896, 0.2727333854076477, 1.2501819240115992, 2.2276304626155508, 3.205079001219488, 4.18252753982344, 5.159976078427377, 6.1374246170313285, 7.11487315563528, 8.092321694239217, 9.069770232843169], [-9.50175200063181, -8.524303462027866, -7.546854923423915, -6.56940638481997, -5.591957846216019, -4.614509307612082, -3.63706076900813, -2.6596122304041927, -1.6821636918002412, -0.7047151531962896, 0.2727333854076477, 1.2501819240115992, 2.2276304626155508, 3.205079001219488, 4.18252753982344, 5.159976078427377, 6.1374246170313285, 7.11487315563528, 8.092321694239217, 9.069770232843169], [-9.50175200063181, -8.524303462027866, -7.546854923423915, -6.56940638481997, -5.591957846216019, -4.614509307612082, -3.63706076900813, -2.6596122304041927, -1.6821636918002412, -0.7047151531962896, 0.2727333854076477, 1.2501819240115992, 2.2276304626155508, 3.205079001219488, 4.18252753982344, 5.159976078427377, 6.1374246170313285, 7.11487315563528, 8.092321694239217, 9.069770232843169], [-9.50175200063181, -8.524303462027866, -7.546854923423915, -6.56940638481997, -5.591957846216019, -4.614509307612082, -3.63706076900813, -2.6596122304041927, -1.6821636918002412, -0.7047151531962896, 0.2727333854076477, 1.2501819240115992, 2.2276304626155508, 3.205079001219488, 4.18252753982344, 5.159976078427377, 6.1374246170313285, 7.11487315563528, 8.092321694239217, 9.069770232843169], [-9.50175200063181, -8.524303462027866, -7.546854923423915, -6.56940638481997, -5.591957846216019, -4.614509307612082, -3.63706076900813, -2.6596122304041927, -1.6821636918002412, -0.7047151531962896, 0.2727333854076477, 1.2501819240115992, 2.2276304626155508, 3.205079001219488, 4.18252753982344, 5.159976078427377, 6.1374246170313285, 7.11487315563528, 8.092321694239217, 9.069770232843169], [-9.50175200063181, -8.524303462027866, -7.546854923423915, -6.56940638481997, -5.591957846216019, -4.614509307612082, -3.63706076900813, -2.6596122304041927, -1.6821636918002412, -0.7047151531962896, 0.2727333854076477, 1.2501819240115992, 2.2276304626155508, 3.205079001219488, 4.18252753982344, 5.159976078427377, 6.1374246170313285, 7.11487315563528, 8.092321694239217, 9.069770232843169], [-9.50175200063181, -8.524303462027866, -7.546854923423915, -6.56940638481997, -5.591957846216019, -4.614509307612082, -3.63706076900813, -2.6596122304041927, -1.6821636918002412, -0.7047151531962896, 0.2727333854076477, 1.2501819240115992, 2.2276304626155508, 3.205079001219488, 4.18252753982344, 5.159976078427377, 6.1374246170313285, 7.11487315563528, 8.092321694239217, 9.069770232843169], [-9.50175200063181, -8.524303462027866, -7.546854923423915, -6.56940638481997, -5.591957846216019, -4.614509307612082, -3.63706076900813, -2.6596122304041927, -1.6821636918002412, -0.7047151531962896, 0.2727333854076477, 1.2501819240115992, 2.2276304626155508, 3.205079001219488, 4.18252753982344, 5.159976078427377, 6.1374246170313285, 7.11487315563528, 8.092321694239217, 9.069770232843169], [-9.50175200063181, -8.524303462027866, -7.546854923423915, -6.56940638481997, -5.591957846216019, -4.614509307612082, -3.63706076900813, -2.6596122304041927, -1.6821636918002412, -0.7047151531962896, 0.2727333854076477, 1.2501819240115992, 2.2276304626155508, 3.205079001219488, 4.18252753982344, 5.159976078427377, 6.1374246170313285, 7.11487315563528, 8.092321694239217, 9.069770232843169], [-9.50175200063181, -8.524303462027866, -7.546854923423915, -6.56940638481997, -5.591957846216019, -4.614509307612082, -3.63706076900813, -2.6596122304041927, -1.6821636918002412, -0.7047151531962896, 0.2727333854076477, 1.2501819240115992, 2.2276304626155508, 3.205079001219488, 4.18252753982344, 5.159976078427377, 6.1374246170313285, 7.11487315563528, 8.092321694239217, 9.069770232843169]], \"y\": [[0.0, 0.0, 0.0, 0.0, 0.0, 0.0, 0.0, 0.0, 0.0, 0.0, 0.0, 0.0, 0.0, 0.0, 0.0, 0.0, 0.0, 0.0, 0.0, 0.0], [0.0007209805335255948, 0.0007209805335255948, 0.0007209805335255948, 0.0007209805335255948, 0.0007209805335255948, 0.0007209805335255948, 0.0007209805335255948, 0.0007209805335255948, 0.0007209805335255948, 0.0007209805335255948, 0.0007209805335255948, 0.0007209805335255948, 0.0007209805335255948, 0.0007209805335255948, 0.0007209805335255948, 0.0007209805335255948, 0.0007209805335255948, 0.0007209805335255948, 0.0007209805335255948, 0.0007209805335255948], [0.0014419610670511895, 0.0014419610670511895, 0.0014419610670511895, 0.0014419610670511895, 0.0014419610670511895, 0.0014419610670511895, 0.0014419610670511895, 0.0014419610670511895, 0.0014419610670511895, 0.0014419610670511895, 0.0014419610670511895, 0.0014419610670511895, 0.0014419610670511895, 0.0014419610670511895, 0.0014419610670511895, 0.0014419610670511895, 0.0014419610670511895, 0.0014419610670511895, 0.0014419610670511895, 0.0014419610670511895], [0.0021629416005767843, 0.0021629416005767843, 0.0021629416005767843, 0.0021629416005767843, 0.0021629416005767843, 0.0021629416005767843, 0.0021629416005767843, 0.0021629416005767843, 0.0021629416005767843, 0.0021629416005767843, 0.0021629416005767843, 0.0021629416005767843, 0.0021629416005767843, 0.0021629416005767843, 0.0021629416005767843, 0.0021629416005767843, 0.0021629416005767843, 0.0021629416005767843, 0.0021629416005767843, 0.0021629416005767843], [0.002883922134102379, 0.002883922134102379, 0.002883922134102379, 0.002883922134102379, 0.002883922134102379, 0.002883922134102379, 0.002883922134102379, 0.002883922134102379, 0.002883922134102379, 0.002883922134102379, 0.002883922134102379, 0.002883922134102379, 0.002883922134102379, 0.002883922134102379, 0.002883922134102379, 0.002883922134102379, 0.002883922134102379, 0.002883922134102379, 0.002883922134102379, 0.002883922134102379], [0.003604902667627974, 0.003604902667627974, 0.003604902667627974, 0.003604902667627974, 0.003604902667627974, 0.003604902667627974, 0.003604902667627974, 0.003604902667627974, 0.003604902667627974, 0.003604902667627974, 0.003604902667627974, 0.003604902667627974, 0.003604902667627974, 0.003604902667627974, 0.003604902667627974, 0.003604902667627974, 0.003604902667627974, 0.003604902667627974, 0.003604902667627974, 0.003604902667627974], [0.004325883201153569, 0.004325883201153569, 0.004325883201153569, 0.004325883201153569, 0.004325883201153569, 0.004325883201153569, 0.004325883201153569, 0.004325883201153569, 0.004325883201153569, 0.004325883201153569, 0.004325883201153569, 0.004325883201153569, 0.004325883201153569, 0.004325883201153569, 0.004325883201153569, 0.004325883201153569, 0.004325883201153569, 0.004325883201153569, 0.004325883201153569, 0.004325883201153569], [0.005046863734679163, 0.005046863734679163, 0.005046863734679163, 0.005046863734679163, 0.005046863734679163, 0.005046863734679163, 0.005046863734679163, 0.005046863734679163, 0.005046863734679163, 0.005046863734679163, 0.005046863734679163, 0.005046863734679163, 0.005046863734679163, 0.005046863734679163, 0.005046863734679163, 0.005046863734679163, 0.005046863734679163, 0.005046863734679163, 0.005046863734679163, 0.005046863734679163], [0.005767844268204758, 0.005767844268204758, 0.005767844268204758, 0.005767844268204758, 0.005767844268204758, 0.005767844268204758, 0.005767844268204758, 0.005767844268204758, 0.005767844268204758, 0.005767844268204758, 0.005767844268204758, 0.005767844268204758, 0.005767844268204758, 0.005767844268204758, 0.005767844268204758, 0.005767844268204758, 0.005767844268204758, 0.005767844268204758, 0.005767844268204758, 0.005767844268204758], [0.006488824801730353, 0.006488824801730353, 0.006488824801730353, 0.006488824801730353, 0.006488824801730353, 0.006488824801730353, 0.006488824801730353, 0.006488824801730353, 0.006488824801730353, 0.006488824801730353, 0.006488824801730353, 0.006488824801730353, 0.006488824801730353, 0.006488824801730353, 0.006488824801730353, 0.006488824801730353, 0.006488824801730353, 0.006488824801730353, 0.006488824801730353, 0.006488824801730353], [0.007209805335255948, 0.007209805335255948, 0.007209805335255948, 0.007209805335255948, 0.007209805335255948, 0.007209805335255948, 0.007209805335255948, 0.007209805335255948, 0.007209805335255948, 0.007209805335255948, 0.007209805335255948, 0.007209805335255948, 0.007209805335255948, 0.007209805335255948, 0.007209805335255948, 0.007209805335255948, 0.007209805335255948, 0.007209805335255948, 0.007209805335255948, 0.007209805335255948], [0.007930785868781542, 0.007930785868781542, 0.007930785868781542, 0.007930785868781542, 0.007930785868781542, 0.007930785868781542, 0.007930785868781542, 0.007930785868781542, 0.007930785868781542, 0.007930785868781542, 0.007930785868781542, 0.007930785868781542, 0.007930785868781542, 0.007930785868781542, 0.007930785868781542, 0.007930785868781542, 0.007930785868781542, 0.007930785868781542, 0.007930785868781542, 0.007930785868781542], [0.008651766402307137, 0.008651766402307137, 0.008651766402307137, 0.008651766402307137, 0.008651766402307137, 0.008651766402307137, 0.008651766402307137, 0.008651766402307137, 0.008651766402307137, 0.008651766402307137, 0.008651766402307137, 0.008651766402307137, 0.008651766402307137, 0.008651766402307137, 0.008651766402307137, 0.008651766402307137, 0.008651766402307137, 0.008651766402307137, 0.008651766402307137, 0.008651766402307137], [0.009372746935832732, 0.009372746935832732, 0.009372746935832732, 0.009372746935832732, 0.009372746935832732, 0.009372746935832732, 0.009372746935832732, 0.009372746935832732, 0.009372746935832732, 0.009372746935832732, 0.009372746935832732, 0.009372746935832732, 0.009372746935832732, 0.009372746935832732, 0.009372746935832732, 0.009372746935832732, 0.009372746935832732, 0.009372746935832732, 0.009372746935832732, 0.009372746935832732], [0.010093727469358327, 0.010093727469358327, 0.010093727469358327, 0.010093727469358327, 0.010093727469358327, 0.010093727469358327, 0.010093727469358327, 0.010093727469358327, 0.010093727469358327, 0.010093727469358327, 0.010093727469358327, 0.010093727469358327, 0.010093727469358327, 0.010093727469358327, 0.010093727469358327, 0.010093727469358327, 0.010093727469358327, 0.010093727469358327, 0.010093727469358327, 0.010093727469358327], [0.010814708002883922, 0.010814708002883922, 0.010814708002883922, 0.010814708002883922, 0.010814708002883922, 0.010814708002883922, 0.010814708002883922, 0.010814708002883922, 0.010814708002883922, 0.010814708002883922, 0.010814708002883922, 0.010814708002883922, 0.010814708002883922, 0.010814708002883922, 0.010814708002883922, 0.010814708002883922, 0.010814708002883922, 0.010814708002883922, 0.010814708002883922, 0.010814708002883922], [0.011535688536409516, 0.011535688536409516, 0.011535688536409516, 0.011535688536409516, 0.011535688536409516, 0.011535688536409516, 0.011535688536409516, 0.011535688536409516, 0.011535688536409516, 0.011535688536409516, 0.011535688536409516, 0.011535688536409516, 0.011535688536409516, 0.011535688536409516, 0.011535688536409516, 0.011535688536409516, 0.011535688536409516, 0.011535688536409516, 0.011535688536409516, 0.011535688536409516], [0.012256669069935111, 0.012256669069935111, 0.012256669069935111, 0.012256669069935111, 0.012256669069935111, 0.012256669069935111, 0.012256669069935111, 0.012256669069935111, 0.012256669069935111, 0.012256669069935111, 0.012256669069935111, 0.012256669069935111, 0.012256669069935111, 0.012256669069935111, 0.012256669069935111, 0.012256669069935111, 0.012256669069935111, 0.012256669069935111, 0.012256669069935111, 0.012256669069935111], [0.012977649603460706, 0.012977649603460706, 0.012977649603460706, 0.012977649603460706, 0.012977649603460706, 0.012977649603460706, 0.012977649603460706, 0.012977649603460706, 0.012977649603460706, 0.012977649603460706, 0.012977649603460706, 0.012977649603460706, 0.012977649603460706, 0.012977649603460706, 0.012977649603460706, 0.012977649603460706, 0.012977649603460706, 0.012977649603460706, 0.012977649603460706, 0.012977649603460706], [0.0136986301369863, 0.0136986301369863, 0.0136986301369863, 0.0136986301369863, 0.0136986301369863, 0.0136986301369863, 0.0136986301369863, 0.0136986301369863, 0.0136986301369863, 0.0136986301369863, 0.0136986301369863, 0.0136986301369863, 0.0136986301369863, 0.0136986301369863, 0.0136986301369863, 0.0136986301369863, 0.0136986301369863, 0.0136986301369863, 0.0136986301369863, 0.0136986301369863]], \"z\": [[0.7107556329632576, 0.576135074402254, 0.45462474852103973, 0.3466644414879063, 0.2526637884190617, 0.17300068887316833, 0.10802002926851628, 0.05803270632759627, 0.023314942192701693, 0.004107878909735518, 0.000617437537368204, 0.013014425184596945, 0.04143487178642502, 0.08598057736151787, 0.1467198498205633, 0.22368841307267928, 0.31689046516690667, 0.42629986646905493, 0.5518614383698832, 0.6934923537116902], [0.7096494748973257, 0.5748886332432992, 0.45323559189517226, 0.3451306945330632, 0.2509841406756923, 0.17117439553454794, 0.10604690708933617, 0.0559131245471427, 0.021049808873998543, 0.0016986231295810228, -0.0019340121148090361, 0.010323185040931548, 0.038606691855637365, 0.08301872592938153, 0.14362798119637077, 0.22047053465852073, 0.31355090357522997, 0.42284323308376415, 0.5482925947180419, 0.6898163769817174], [0.708543957589713, 0.5736427810120048, 0.45184696521367584, 0.34359741186105985, 0.24930488542501195, 0.16934841738319584, 0.10407401794263116, 0.05379368950172747, 0.018784732586277997, -0.0007106679760831014, -0.00448559133987203, 0.007631719944928506, 0.035778191207771926, 0.08005645835642383, 0.14053560204682114, 0.21725205303720685, 0.3102106484205507, 0.4193858186839563, 0.5447228860341262, 0.6861394551144038], [0.7074390821101009, 0.572397518775233, 0.45045886952571834, 0.3420645944887859, 0.24762602363712993, 0.16752275532860494, 0.10210136266417003, 0.05167440194127515, 0.01651971398267804, -0.0031199938606398803, -0.007037299706066591, 0.0049400302066544555, 0.03294937002587872, 0.07709377469490875, 0.1374427122911115, 0.21403296799412885, 0.3068696993552287, 0.4159276227910311, 0.5411523117120574, 0.6824615873808533], [0.7063348495301174, 0.5711528476018337, 0.44907130588263655, 0.34053224343522714, 0.2459475562842819, 0.16569741028237317, 0.1001289420917999, 0.04955526261772647, 0.014254753718164537, -0.005529353975774143, -0.009589136780085994, 0.002248116137504752, 0.03012022849410556, 0.07413067499788539, 0.1343493118489647, 0.21081327931493377, 0.30352805603155986, 0.41246864492607216, 0.5375808711451739, 0.6787827730513101], [0.7052312609231581, 0.5699087685626054, 0.447684275337755, 0.3390003597214619, 0.24426948434081908, 0.1638723831581803, 0.09815675706537874, 0.04743627228490688, 0.011989852449525884, -0.007938747771554233, -0.012141102127195325, -0.00044402194990667, 0.027290766797570143, 0.07116715931916318, 0.13125540064059393, 0.20759298678549953, 0.3001857181017549, 0.40900888460980767, 0.5340085637261147, 0.6751030113950947], [0.7041283173644874, 0.5686652827302972, 0.44629777894645883, 0.3374689443706984, 0.2425918087832457, 0.16204767487181293, 0.0961848084268162, 0.04531743169863489, 0.009725010835406778, -0.010348174696332535, -0.014693195311171081, -0.0031363837416691354, 0.02446098512243111, 0.06820322771333309, 0.12816097858670972, 0.20437209019187108, 0.2968426852179853, 0.4055483413625858, 0.5304353888469464, 0.6714223016806109], [0.7030260199312472, 0.5674223911796794, 0.4449118177662381, 0.33593799840826755, 0.24091453059016388, 0.16022328634122474, 0.09421309702011982, 0.04319874161670256, 0.007460229536238927, -0.012757634196798762, -0.01724541589428341, -0.0058289689226107555, 0.02163088365590582, 0.06523888023575708, 0.12506604560853063, 0.20115058932037044, 0.2934989570323445, 0.4020870147044455, 0.5268613458990714, 0.6677406431753283], [0.7019243697024269, 0.5661800949874589, 0.4435263928565938, 0.3344075228615946, 0.23923765074234993, 0.15839921848644423, 0.0922416236913115, 0.04108020279886837, 0.005195509214360072, -0.015167125717962193, -0.019797763437313876, -0.008521777176255796, 0.01880046258624901, 0.062274116942607094, 0.12197060162783302, 0.19792848395756835, 0.2901545331968869, 0.3986249041550636, 0.5232864342732739, 0.6640580351458638], [0.7008233677588525, 0.5649383952323674, 0.4421415052791655, 0.33287751876027727, 0.23756117022271894, 0.15657547222963686, 0.09027038928853592, 0.03896181600687143, 0.0029308505339340485, -0.0175766487031197, -0.022350237499551895, -0.011214808184909941, 0.015969722102735062, 0.059308937890808267, 0.11887464656683733, 0.19470577389019894, 0.28680941336360277, 0.39516200923378264, 0.5197106533596951, 0.6603744768578714], [0.6997230151832259, 0.5636972929950677, 0.4407571560976038, 0.3313479871359988, 0.23588509001633007, 0.15475204849511748, 0.088299394661977, 0.036843582004422615, 0.0006662541609490091, -0.01998620259390904, -0.02490283763875567, -0.013908061629511081, 0.013138662395707712, 0.0563433431380993, 0.11577818034832887, 0.1914824589052948, 0.2834635971844328, 0.39169832945959016, 0.5161340025478367, 0.6566899675760922], [0.6986233130601285, 0.5624567893582615, 0.43937334637769965, 0.32981892902261656, 0.23420941111040783, 0.15292894820931657, 0.0863286406639201, 0.03472550155722942, -0.0015982792366884269, -0.022395786830234243, -0.02745556341122324, -0.01660153718975721, 0.010307283656551647, 0.05337733274298273, 0.11268120289559036, 0.18825853879008037, 0.28011708431124305, 0.38823386435109697, 0.5125564812265679, 0.6530045065643755], [0.6975242624759801, 0.5612168854066244, 0.4379900771872851, 0.32829034545612323, 0.23253413449433502, 0.15110617230083, 0.08435812814872001, 0.03260757543300663, -0.0038627489892384403, -0.024805400850290482, -0.03000841437168944, -0.01929523454402826, 0.007475586077720919, 0.05041090676480309, 0.1095837141324374, 0.1850340133320394, 0.2767698743958604, 0.38476861342662616, 0.5089780887841435, 0.6493180930856184], [0.6964258645191208, 0.5599775822268374, 0.43660734959631675, 0.3267622374746395, 0.23085926115967048, 0.14928372170038529, 0.08238785797287207, 0.030489804401446108, -0.006127154425081827, -0.02721504409060671, -0.03256139007338277, -0.021989153369400327, 0.004643569852717633, 0.04744406526367584, 0.10648571398319717, 0.18180888231889014, 0.2734219670900764, 0.3813025762041242, 0.5053988246081644, 0.6456307264018264], [0.6953281202797026, 0.5587388809075726, 0.43522516467683303, 0.32523460611846033, 0.2291847921001402, 0.1474615973409037, 0.08041783099490729, 0.028372189234280754, -0.00839149487073243, -0.029624715985939076, -0.03511449006801115, -0.024683293341674073, 0.0018112351761203627, 0.04447680830048739, 0.10338720237274401, 0.17858314553858534, 0.2700733620456006, 0.37783575220119303, 0.5018186880855886, 0.641942405774067], [0.6942310308498278, 0.5575007825395293, 0.4338435235029596, 0.32370745243005317, 0.22751072831164798, 0.14563980015741151, 0.0784480480755061, 0.026254730705213447, -0.01065576965078563, -0.0320344159693704, -0.03766771390576551, -0.027377654135289475, -0.0010214177564513705, 0.041509135937015884, 0.10028817922646738, 0.17535680277934063, 0.2667240589141038, 0.37436814093508275, 0.4982376786027345, 0.6382531304624912], [0.6931345973234251, 0.5562632882153977, 0.4324624271509663, 0.3221807774540242, 0.22583707079229143, 0.1438183310871448, 0.07647851007746986, 0.024137429590020076, -0.012919978087975181, -0.034444143472192934, -0.04022106113527002, -0.03007223542338977, -0.0038543887482518358, 0.03854104823576421, 0.09718864447028963, 0.17212985382960966, 0.2633740573472245, 0.37089974192272734, 0.4946557955453237, 0.634562899726351], [0.6920388207963466, 0.5550263990298845, 0.4310818766991833, 0.3206545822371396, 0.22416382054234596, 0.14199719106950326, 0.07450921786566411, 0.02202028666644118, -0.015184119503153681, -0.036853897924043366, -0.042774531303631846, -0.03276703687783922, -0.006687677601533437, 0.03557254526009501, 0.09408859803068381, 0.16890229847804505, 0.26002335699652335, 0.36743055468068064, 0.491073038298385, 0.6308717128238897], [0.6909437023663081, 0.5537901160797318, 0.4297018732280993, 0.319128867828363, 0.22249097856430033, 0.14017638104605012, 0.07254017230713572, 0.019903302714304516, -0.01744819321521973, -0.03926367875275716, -0.04532812395640917, -0.03546205816910941, -0.009521284117393947, 0.03260362707419162, 0.09098803983464165, 0.1656741365136405, 0.25667195751354654, 0.36396057872519094, 0.4874894062463575, 0.6271795690125366], [0.689849243132933, 0.5525544404637053, 0.4283224178202989, 0.3176036352788518, 0.22081854586281935, 0.13835590196056913, 0.07057137427102589, 0.017786478515434467, -0.019712198541203207, -0.04167348538444671, -0.04788183863760054, -0.03815729896638942, -0.012355208095893744, 0.02963429374303317, 0.08788696980971267, 0.16244536772557083, 0.25331985854978356, 0.3604898135721264, 0.48390489877299814, 0.6234864675487088]]}],\n",
              "                        {\"annotations\": [{\"font\": {\"size\": 16}, \"showarrow\": false, \"text\": \"Unhedged\", \"x\": 0.225, \"xanchor\": \"center\", \"xref\": \"paper\", \"y\": 1.0, \"yanchor\": \"bottom\", \"yref\": \"paper\"}, {\"font\": {\"size\": 16}, \"showarrow\": false, \"text\": \"Hedged\", \"x\": 0.775, \"xanchor\": \"center\", \"xref\": \"paper\", \"y\": 1.0, \"yanchor\": \"bottom\", \"yref\": \"paper\"}], \"scene\": {\"domain\": {\"x\": [0.0, 0.45], \"y\": [0.0, 1.0]}, \"xaxis\": {\"title\": {\"text\": \"dS\"}}, \"yaxis\": {\"title\": {\"text\": \"dt\"}}, \"zaxis\": {\"title\": {\"text\": \"dV\"}}}, \"scene2\": {\"domain\": {\"x\": [0.55, 1.0], \"y\": [0.0, 1.0]}}, \"template\": {\"data\": {\"bar\": [{\"error_x\": {\"color\": \"#2a3f5f\"}, \"error_y\": {\"color\": \"#2a3f5f\"}, \"marker\": {\"line\": {\"color\": \"#E5ECF6\", \"width\": 0.5}}, \"type\": \"bar\"}], \"barpolar\": [{\"marker\": {\"line\": {\"color\": \"#E5ECF6\", \"width\": 0.5}}, \"type\": \"barpolar\"}], \"carpet\": [{\"aaxis\": {\"endlinecolor\": \"#2a3f5f\", \"gridcolor\": \"white\", \"linecolor\": \"white\", \"minorgridcolor\": \"white\", \"startlinecolor\": \"#2a3f5f\"}, \"baxis\": {\"endlinecolor\": \"#2a3f5f\", \"gridcolor\": \"white\", \"linecolor\": \"white\", \"minorgridcolor\": \"white\", \"startlinecolor\": \"#2a3f5f\"}, \"type\": \"carpet\"}], \"choropleth\": [{\"colorbar\": {\"outlinewidth\": 0, \"ticks\": \"\"}, \"type\": \"choropleth\"}], \"contour\": [{\"colorbar\": {\"outlinewidth\": 0, \"ticks\": \"\"}, \"colorscale\": [[0.0, \"#0d0887\"], [0.1111111111111111, \"#46039f\"], [0.2222222222222222, \"#7201a8\"], [0.3333333333333333, \"#9c179e\"], [0.4444444444444444, \"#bd3786\"], [0.5555555555555556, \"#d8576b\"], [0.6666666666666666, \"#ed7953\"], [0.7777777777777778, \"#fb9f3a\"], [0.8888888888888888, \"#fdca26\"], [1.0, \"#f0f921\"]], \"type\": \"contour\"}], \"contourcarpet\": [{\"colorbar\": {\"outlinewidth\": 0, \"ticks\": \"\"}, \"type\": \"contourcarpet\"}], \"heatmap\": [{\"colorbar\": {\"outlinewidth\": 0, \"ticks\": \"\"}, \"colorscale\": [[0.0, \"#0d0887\"], [0.1111111111111111, \"#46039f\"], [0.2222222222222222, \"#7201a8\"], [0.3333333333333333, \"#9c179e\"], [0.4444444444444444, \"#bd3786\"], [0.5555555555555556, \"#d8576b\"], [0.6666666666666666, \"#ed7953\"], [0.7777777777777778, \"#fb9f3a\"], [0.8888888888888888, \"#fdca26\"], [1.0, \"#f0f921\"]], \"type\": \"heatmap\"}], \"heatmapgl\": [{\"colorbar\": {\"outlinewidth\": 0, \"ticks\": \"\"}, \"colorscale\": [[0.0, \"#0d0887\"], [0.1111111111111111, \"#46039f\"], [0.2222222222222222, \"#7201a8\"], [0.3333333333333333, \"#9c179e\"], [0.4444444444444444, \"#bd3786\"], [0.5555555555555556, \"#d8576b\"], [0.6666666666666666, \"#ed7953\"], [0.7777777777777778, \"#fb9f3a\"], [0.8888888888888888, \"#fdca26\"], [1.0, \"#f0f921\"]], \"type\": \"heatmapgl\"}], \"histogram\": [{\"marker\": {\"colorbar\": {\"outlinewidth\": 0, \"ticks\": \"\"}}, \"type\": \"histogram\"}], \"histogram2d\": [{\"colorbar\": {\"outlinewidth\": 0, \"ticks\": \"\"}, \"colorscale\": [[0.0, \"#0d0887\"], [0.1111111111111111, \"#46039f\"], [0.2222222222222222, \"#7201a8\"], [0.3333333333333333, \"#9c179e\"], [0.4444444444444444, \"#bd3786\"], [0.5555555555555556, \"#d8576b\"], [0.6666666666666666, \"#ed7953\"], [0.7777777777777778, \"#fb9f3a\"], [0.8888888888888888, \"#fdca26\"], [1.0, \"#f0f921\"]], \"type\": \"histogram2d\"}], \"histogram2dcontour\": [{\"colorbar\": {\"outlinewidth\": 0, \"ticks\": \"\"}, \"colorscale\": [[0.0, \"#0d0887\"], [0.1111111111111111, \"#46039f\"], [0.2222222222222222, \"#7201a8\"], [0.3333333333333333, \"#9c179e\"], [0.4444444444444444, \"#bd3786\"], [0.5555555555555556, \"#d8576b\"], [0.6666666666666666, \"#ed7953\"], [0.7777777777777778, \"#fb9f3a\"], [0.8888888888888888, \"#fdca26\"], [1.0, \"#f0f921\"]], \"type\": \"histogram2dcontour\"}], \"mesh3d\": [{\"colorbar\": {\"outlinewidth\": 0, \"ticks\": \"\"}, \"type\": \"mesh3d\"}], \"parcoords\": [{\"line\": {\"colorbar\": {\"outlinewidth\": 0, \"ticks\": \"\"}}, \"type\": \"parcoords\"}], \"pie\": [{\"automargin\": true, \"type\": \"pie\"}], \"scatter\": [{\"marker\": {\"colorbar\": {\"outlinewidth\": 0, \"ticks\": \"\"}}, \"type\": \"scatter\"}], \"scatter3d\": [{\"line\": {\"colorbar\": {\"outlinewidth\": 0, \"ticks\": \"\"}}, \"marker\": {\"colorbar\": {\"outlinewidth\": 0, \"ticks\": \"\"}}, \"type\": \"scatter3d\"}], \"scattercarpet\": [{\"marker\": {\"colorbar\": {\"outlinewidth\": 0, \"ticks\": \"\"}}, \"type\": \"scattercarpet\"}], \"scattergeo\": [{\"marker\": {\"colorbar\": {\"outlinewidth\": 0, \"ticks\": \"\"}}, \"type\": \"scattergeo\"}], \"scattergl\": [{\"marker\": {\"colorbar\": {\"outlinewidth\": 0, \"ticks\": \"\"}}, \"type\": \"scattergl\"}], \"scattermapbox\": [{\"marker\": {\"colorbar\": {\"outlinewidth\": 0, \"ticks\": \"\"}}, \"type\": \"scattermapbox\"}], \"scatterpolar\": [{\"marker\": {\"colorbar\": {\"outlinewidth\": 0, \"ticks\": \"\"}}, \"type\": \"scatterpolar\"}], \"scatterpolargl\": [{\"marker\": {\"colorbar\": {\"outlinewidth\": 0, \"ticks\": \"\"}}, \"type\": \"scatterpolargl\"}], \"scatterternary\": [{\"marker\": {\"colorbar\": {\"outlinewidth\": 0, \"ticks\": \"\"}}, \"type\": \"scatterternary\"}], \"surface\": [{\"colorbar\": {\"outlinewidth\": 0, \"ticks\": \"\"}, \"colorscale\": [[0.0, \"#0d0887\"], [0.1111111111111111, \"#46039f\"], [0.2222222222222222, \"#7201a8\"], [0.3333333333333333, \"#9c179e\"], [0.4444444444444444, \"#bd3786\"], [0.5555555555555556, \"#d8576b\"], [0.6666666666666666, \"#ed7953\"], [0.7777777777777778, \"#fb9f3a\"], [0.8888888888888888, \"#fdca26\"], [1.0, \"#f0f921\"]], \"type\": \"surface\"}], \"table\": [{\"cells\": {\"fill\": {\"color\": \"#EBF0F8\"}, \"line\": {\"color\": \"white\"}}, \"header\": {\"fill\": {\"color\": \"#C8D4E3\"}, \"line\": {\"color\": \"white\"}}, \"type\": \"table\"}]}, \"layout\": {\"annotationdefaults\": {\"arrowcolor\": \"#2a3f5f\", \"arrowhead\": 0, \"arrowwidth\": 1}, \"coloraxis\": {\"colorbar\": {\"outlinewidth\": 0, \"ticks\": \"\"}}, \"colorscale\": {\"diverging\": [[0, \"#8e0152\"], [0.1, \"#c51b7d\"], [0.2, \"#de77ae\"], [0.3, \"#f1b6da\"], [0.4, \"#fde0ef\"], [0.5, \"#f7f7f7\"], [0.6, \"#e6f5d0\"], [0.7, \"#b8e186\"], [0.8, \"#7fbc41\"], [0.9, \"#4d9221\"], [1, \"#276419\"]], \"sequential\": [[0.0, \"#0d0887\"], [0.1111111111111111, \"#46039f\"], [0.2222222222222222, \"#7201a8\"], [0.3333333333333333, \"#9c179e\"], [0.4444444444444444, \"#bd3786\"], [0.5555555555555556, \"#d8576b\"], [0.6666666666666666, \"#ed7953\"], [0.7777777777777778, \"#fb9f3a\"], [0.8888888888888888, \"#fdca26\"], [1.0, \"#f0f921\"]], \"sequentialminus\": [[0.0, \"#0d0887\"], [0.1111111111111111, \"#46039f\"], [0.2222222222222222, \"#7201a8\"], [0.3333333333333333, \"#9c179e\"], [0.4444444444444444, \"#bd3786\"], [0.5555555555555556, \"#d8576b\"], [0.6666666666666666, \"#ed7953\"], [0.7777777777777778, \"#fb9f3a\"], [0.8888888888888888, \"#fdca26\"], [1.0, \"#f0f921\"]]}, \"colorway\": [\"#636efa\", \"#EF553B\", \"#00cc96\", \"#ab63fa\", \"#FFA15A\", \"#19d3f3\", \"#FF6692\", \"#B6E880\", \"#FF97FF\", \"#FECB52\"], \"font\": {\"color\": \"#2a3f5f\"}, \"geo\": {\"bgcolor\": \"white\", \"lakecolor\": \"white\", \"landcolor\": \"#E5ECF6\", \"showlakes\": true, \"showland\": true, \"subunitcolor\": \"white\"}, \"hoverlabel\": {\"align\": \"left\"}, \"hovermode\": \"closest\", \"mapbox\": {\"style\": \"light\"}, \"paper_bgcolor\": \"white\", \"plot_bgcolor\": \"#E5ECF6\", \"polar\": {\"angularaxis\": {\"gridcolor\": \"white\", \"linecolor\": \"white\", \"ticks\": \"\"}, \"bgcolor\": \"#E5ECF6\", \"radialaxis\": {\"gridcolor\": \"white\", \"linecolor\": \"white\", \"ticks\": \"\"}}, \"scene\": {\"xaxis\": {\"backgroundcolor\": \"#E5ECF6\", \"gridcolor\": \"white\", \"gridwidth\": 2, \"linecolor\": \"white\", \"showbackground\": true, \"ticks\": \"\", \"zerolinecolor\": \"white\"}, \"yaxis\": {\"backgroundcolor\": \"#E5ECF6\", \"gridcolor\": \"white\", \"gridwidth\": 2, \"linecolor\": \"white\", \"showbackground\": true, \"ticks\": \"\", \"zerolinecolor\": \"white\"}, \"zaxis\": {\"backgroundcolor\": \"#E5ECF6\", \"gridcolor\": \"white\", \"gridwidth\": 2, \"linecolor\": \"white\", \"showbackground\": true, \"ticks\": \"\", \"zerolinecolor\": \"white\"}}, \"shapedefaults\": {\"line\": {\"color\": \"#2a3f5f\"}}, \"ternary\": {\"aaxis\": {\"gridcolor\": \"white\", \"linecolor\": \"white\", \"ticks\": \"\"}, \"baxis\": {\"gridcolor\": \"white\", \"linecolor\": \"white\", \"ticks\": \"\"}, \"bgcolor\": \"#E5ECF6\", \"caxis\": {\"gridcolor\": \"white\", \"linecolor\": \"white\", \"ticks\": \"\"}}, \"title\": {\"x\": 0.05}, \"xaxis\": {\"automargin\": true, \"gridcolor\": \"white\", \"linecolor\": \"white\", \"ticks\": \"\", \"title\": {\"standoff\": 15}, \"zerolinecolor\": \"white\", \"zerolinewidth\": 2}, \"yaxis\": {\"automargin\": true, \"gridcolor\": \"white\", \"linecolor\": \"white\", \"ticks\": \"\", \"title\": {\"standoff\": 15}, \"zerolinecolor\": \"white\", \"zerolinewidth\": 2}}}},\n",
              "                        {\"responsive\": true}\n",
              "                    ).then(function(){\n",
              "                            \n",
              "var gd = document.getElementById('1ffc2fb7-2833-4943-94d6-3fa5a837bce5');\n",
              "var x = new MutationObserver(function (mutations, observer) {{\n",
              "        var display = window.getComputedStyle(gd).display;\n",
              "        if (!display || display === 'none') {{\n",
              "            console.log([gd, 'removed!']);\n",
              "            Plotly.purge(gd);\n",
              "            observer.disconnect();\n",
              "        }}\n",
              "}});\n",
              "\n",
              "// Listen for the removal of the full notebook cells\n",
              "var notebookContainer = gd.closest('#notebook-container');\n",
              "if (notebookContainer) {{\n",
              "    x.observe(notebookContainer, {childList: true});\n",
              "}}\n",
              "\n",
              "// Listen for the clearing of the current output cell\n",
              "var outputEl = gd.closest('.output');\n",
              "if (outputEl) {{\n",
              "    x.observe(outputEl, {childList: true});\n",
              "}}\n",
              "\n",
              "                        })\n",
              "                };\n",
              "                \n",
              "            </script>\n",
              "        </div>\n",
              "</body>\n",
              "</html>"
            ]
          },
          "metadata": {}
        }
      ]
    },
    {
      "cell_type": "markdown",
      "id": "fb64c0f8",
      "metadata": {
        "id": "fb64c0f8"
      },
      "source": [
        "## $\\Delta-\\Gamma$ hedging\n",
        "\n",
        "Gammą instrumentu $V_t$ nazywamy $\\Gamma := \\frac{\\partial^2 V}{\\partial S^2}$. Jeżeli ta wartość również wyniesie zero, to portfel nazwiemy delta-gamma-neutralnym.\n",
        "\n",
        "$$ d\\Pi = \\Big(\\Theta +  \\frac{1}{2}\\sigma^2S^2\\Gamma \\Big)dt $$ \n",
        "\n",
        "$$ d\\Pi = \\Big(\\Theta + 0 \\Big)dt $$ \n",
        "\n",
        "Aby uzyskać portfel $\\Delta$ neutralny musieliśmy posłużyć się innym, dodatkowym instrumentem finansowym. \n",
        "Okazuje się, że aby można uzyskać portfel jednocześnie $\\Delta$ neutralny i $\\Gamma$ neutralny ($\\Delta-\\Gamma$ neutralny), ale będziemy potrzebować do tego dwóch instrumentów.\n",
        "\n",
        "Zajmiemy więc pozycję $x$ w akcji $S$, pozycję $y$ w opcji $C$, oraz sfinalizujemy to pozycją $z$ w obligacjach taką, żeby cały hedge był bezkosztowy:\n",
        "\n",
        "$$ \\Pi = V + x S + y C + z$$\n",
        "\n",
        "$$ \\Delta_{\\Pi} = \\Delta_{V} + x\\Delta_{S} + y\\Delta_{C} $$\n",
        "\n",
        "$$ \\Gamma_{\\Pi} = \\Gamma_{V} + x\\Gamma_{S} + y\\Gamma_{C} $$"
      ]
    },
    {
      "cell_type": "markdown",
      "id": "3c7e7295",
      "metadata": {
        "id": "3c7e7295"
      },
      "source": [
        "Dobierzemy więc parę $(x, y)$ w sposób, który wyzeruje deltę i gammę pozycji. Aby je znaleźć rozwiązujemy układ równań:\n",
        "\n",
        "$$\\begin{bmatrix} \\Delta_S & \\Delta_C \\\\ \\Gamma_S & \\Gamma_C \\end{bmatrix} \\begin{bmatrix} x \\\\ y \\end{bmatrix} = \\begin{bmatrix} -\\Delta_{\\Pi} \\\\ - \\Gamma_{\\Pi} \\end{bmatrix}$$."
      ]
    },
    {
      "cell_type": "code",
      "execution_count": null,
      "id": "c27d5fd8",
      "metadata": {
        "id": "c27d5fd8"
      },
      "outputs": [],
      "source": [
        "%matplotlib inline\n",
        "\n",
        "# Setup two options\n",
        "K1 = K\n",
        "K2 = K1 + 30\n",
        "option1 = mibian.BS([S0, K1, r*100, T*365], volatility = sig*100)\n",
        "option2 = mibian.BS([S0, K2, r*100, T*365], volatility = sig*100)\n",
        "options= [option1, option2]\n",
        "\n",
        "# Calc their deltas, gammas and prices\n",
        "deltas = [option.callDelta for option in options]\n",
        "gammas = [option.gamma for option in options]\n",
        "prices = [option.callPrice for option in options]\n",
        "\n",
        "# Simulate 1D Stock prices, make an array covering their span and calculate option prices \n",
        "S_1D = gbm(S0, r, sig, dt, 1, MC)[-1]\n",
        "S_1D = np.linspace(S_1D.min(), S_1D.max(), 100)\n",
        "prices_1D = [np.array([mibian.BS([S, k, r*100, 364], volatility = sig*100).callPrice for S in S_1D]) for k in [K1, K2]]\n",
        "\n",
        "# Solve the linear system for (x,y)\n",
        "# AX = B\n",
        "A = np.array([[1.0, deltas[1]], [0.0 , gammas[1]]]) # 1.0 and 0.0 are S(t) delta and gamma\n",
        "B = np.array([[-deltas[0]], [-gammas[0]]])\n",
        "x, y = np.linalg.solve(A, B) # positions in S(t) and second option\n",
        "\n",
        "DV_1D = prices_1D[0] - prices[0]\n",
        "DH_1D = (prices_1D[0] - deltas[0]*S_1D) - (prices[0] - deltas[0]*S0)*np.exp(r*dt)\n",
        "DGH_1D = (prices_1D[0] + x*S_1D + y*prices_1D[1]) - (prices[0] + x*S0 + y*prices[1])*np.exp(r*dt)\n",
        "\n",
        "plt.plot(S_1D, DV_1D, label = 'Call')\n",
        "plt.plot(S_1D, DH_1D, label = 'Call + $\\Delta$ hedge')\n",
        "plt.plot(S_1D, DGH_1D, label = 'Call + $\\Delta-\\Gamma$ hedge')\n",
        "\n",
        "plt.xlabel('$S_t$')\n",
        "\n",
        "_ = plt.legend()"
      ]
    },
    {
      "cell_type": "code",
      "execution_count": null,
      "id": "0b29a51c",
      "metadata": {
        "id": "0b29a51c"
      },
      "outputs": [],
      "source": [
        "%matplotlib notebook\n",
        "\n",
        "@np.vectorize\n",
        "def price_surface(S_, t_):\n",
        "    return mibian.BS([S_, 90, 0.05*100, (T-t_)*365], volatility = 0.3*100).callPrice\n",
        "\n",
        "@np.vectorize\n",
        "def price_surface_delta_gamma_hedged(S_, t_):\n",
        "    option1 = mibian.BS([S_, K1, 0.05*100, (T-t_)*365], volatility = 0.3*100).callPrice\n",
        "    option2 = mibian.BS([S_, K2, 0.05*100, (T-t_)*365], volatility = 0.3*100).callPrice\n",
        "    return option1 + x*S_ + y*option2 - (x*S0 + y*prices[1])*np.exp(r*dt)\n",
        "\n",
        "S_lattice = np.linspace(S_1D.min(), S_1D.max(), 40)\n",
        "S_lattice = np.linspace(S_1D.min(), S_1D.max(), 40)\n",
        "t_lattice = np.linspace(0, dt, 20)\n",
        "\n",
        "S, t = np.meshgrid(S_lattice, t_lattice)\n",
        "V = price_surface(S, t)\n",
        "Vdh = price_surface_delta_hedged(S, t)\n",
        "Vdgh = price_surface_delta_gamma_hedged(S, t)\n",
        "\n",
        "fig = plt.figure(figsize=(10, 10))\n",
        "\n",
        "ax1 = fig.add_subplot(221,projection='3d')\n",
        "ax1.plot_surface(S - S0, t, V - V_0, cmap='magma')\n",
        "ax1.set_xlabel('$dS_t$')\n",
        "ax1.set_ylabel('$dT$')\n",
        "ax1.set_zlabel('Value change')\n",
        "ax1.set_title('Unhedged portfolio')\n",
        "ax1.set_zlim(zmin, zmax)\n",
        "\n",
        "ax2 = fig.add_subplot(223,projection='3d')\n",
        "ax2.plot_surface(S - S0, t, Vdh - V_0, cmap='magma')\n",
        "ax2.set_xlabel('$dS_t$')\n",
        "ax2.set_ylabel('$dT$')\n",
        "ax2.set_zlabel('Value change')\n",
        "ax2.set_title('$\\Delta$ hedged portfolio')\n",
        "ax2.set_zlim(zmin, zmax)\n",
        "\n",
        "ax3 = fig.add_subplot(224,projection='3d')\n",
        "ax3.plot_surface(S - S0, t, Vdgh - V_0, cmap='magma')\n",
        "ax3.set_xlabel('$dS_t$')\n",
        "ax3.set_ylabel('$dT$')\n",
        "ax3.set_zlabel('Value change')\n",
        "ax3.set_title('$\\Delta - \\Gamma$ Hedged portfolio')\n",
        "ax3.set_zlim(zmin, zmax)\n",
        "\n",
        "plt.tight_layout()"
      ]
    },
    {
      "cell_type": "markdown",
      "id": "027dd00c",
      "metadata": {
        "id": "027dd00c"
      },
      "source": [
        "## Dynamic hedging\n",
        "\n",
        "Do tej pory rozważaliśmy jednodniowy przyrost. Zobaczmy jednak co dzieje się z zahedgowaną pozycją jeśli będziemy ją utrzymywać przez dłuzszy okres czasu"
      ]
    },
    {
      "cell_type": "code",
      "execution_count": null,
      "id": "116a16ac",
      "metadata": {
        "id": "116a16ac"
      },
      "outputs": [],
      "source": [
        "%matplotlib notebook\n",
        "\n",
        "dt_longer = dt*10 \n",
        "\n",
        "@np.vectorize\n",
        "def price_surface(S_, t_):\n",
        "    return mibian.BS([S_, 90, 0.05*100, (T-t_)*365], volatility = 0.3*100).callPrice\n",
        "\n",
        "@np.vectorize\n",
        "def price_surface_delta_gamma_hedged(S_, t_):\n",
        "    option1 = mibian.BS([S_, K1, 0.05*100, (T-t_)*365], volatility = 0.3*100).callPrice\n",
        "    option2 = mibian.BS([S_, K2, 0.05*100, (T-t_)*365], volatility = 0.3*100).callPrice\n",
        "    return option1 + x*S_ + y*option2 - (x*S0 + y*prices[1])*np.exp(r*dt)\n",
        "\n",
        "# Simulate 1 day stock trajectory\n",
        "S_1D = gbm(S0, r, sig, dt_longer, 1, MC)[-1]\n",
        "\n",
        "S_lattice = np.linspace(S_1D.min(), S_1D.max(), 40)\n",
        "S_lattice = np.linspace(S_1D.min(), S_1D.max(), 40)\n",
        "t_lattice = np.linspace(0, dt_longer, 20)\n",
        "\n",
        "S, t = np.meshgrid(S_lattice, t_lattice)\n",
        "V = price_surface(S, t)\n",
        "Vdh = price_surface_delta_hedged(S, t)\n",
        "Vdgh = price_surface_delta_gamma_hedged(S, t)\n",
        "\n",
        "fig = plt.figure(figsize=(10, 10))\n",
        "\n",
        "ax2 = fig.add_subplot(121,projection='3d')\n",
        "ax2.plot_surface(S - S0, t, Vdh - V_0, cmap='magma')\n",
        "ax2.set_xlabel('$dS_t$')\n",
        "ax2.set_ylabel('$dT$')\n",
        "ax2.set_zlabel('Value change')\n",
        "ax2.set_title('$\\Delta$ hedged portfolio')\n",
        "ax2.set_zlim(zmin, zmax)\n",
        "\n",
        "ax3 = fig.add_subplot(122,projection='3d')\n",
        "ax3.plot_surface(S - S0, t, Vdgh - V_0, cmap='magma')\n",
        "ax3.set_xlabel('$dS_t$')\n",
        "ax3.set_ylabel('$dT$')\n",
        "ax3.set_zlabel('Value change')\n",
        "ax3.set_title('$\\Delta - \\Gamma$ Hedged portfolio')\n",
        "ax3.set_zlim(zmin, zmax)\n",
        "\n",
        "plt.tight_layout()"
      ]
    },
    {
      "cell_type": "markdown",
      "id": "a5f1babf",
      "metadata": {
        "id": "a5f1babf"
      },
      "source": [
        "Rozwiązaniem może być dynamiczne rebalansowanie pozycji - np. codziennie, co kilka dni, czy co tydzień etc.\n",
        "Pojawia się tu inny problem, bo im częściej rebalansujemy tym większe koszty transakcji ponosimy. W praktyce należy dobrać pewien trade-off między częstością rebalansowania, a jego kosztami. \n",
        "\n",
        "Żeby doczytać więcej na ten temat sprawdź:\n",
        "* [Ten artykuł](https://www.efmaefm.org/0efmameetings/efma%20annual%20meetings/2005-Milan/papers/284-zakamouline_paper.pdf) bazujący na funkcji użyteczności\n",
        "* [Trochę nowocześniejsze podejście...](https://arxiv.org/pdf/1802.03042.pdf) używające RNN ...\n",
        "* [... i jego kontynuacja](https://arxiv.org/pdf/2109.12337.pdf) porównująca modele liniowe, ML i CNN."
      ]
    },
    {
      "cell_type": "markdown",
      "id": "f03a30ea",
      "metadata": {
        "id": "f03a30ea"
      },
      "source": [
        "My założymy dla uproszczenia, że kosztów transakcji nie ma i skupimy się na mechanice dynamicznego rebalansowania pozycji.\n",
        "\n",
        "Będziemy wykonywać następujące kroki:\n",
        "1. Zadamy parametry opcji, oraz rynku\n",
        "2. Wyliczymy deltę, gammę i pozycje hedgujące portfel\n",
        "3. Dohedgujemy/odhedgujemy pozycję w sposób bezkosztowy\n",
        "4. Wysymulujemy \"krok\" instrumentu bazowego\n",
        "5. Obliczymy nową wartość portfela zgodnie z 2. i 3.\n",
        "6. Wrócimy do punktu 2."
      ]
    },
    {
      "cell_type": "code",
      "execution_count": null,
      "id": "56342dfa",
      "metadata": {
        "id": "56342dfa"
      },
      "outputs": [],
      "source": [
        "option.__dict__"
      ]
    },
    {
      "cell_type": "code",
      "execution_count": null,
      "id": "eabac8b2",
      "metadata": {
        "id": "eabac8b2"
      },
      "outputs": [],
      "source": [
        "option.strikePrice"
      ]
    },
    {
      "cell_type": "code",
      "execution_count": null,
      "id": "fe4a3365",
      "metadata": {
        "id": "fe4a3365"
      },
      "outputs": [],
      "source": [
        "def dynamic_hedging(stock_trajectory, option_to_hedge, option_for_gamma):\n",
        "    \n",
        "    gbm_traj = stock_trajectory\n",
        "    K = option_to_hedge.strikePrice\n",
        "    r = option_to_hedge.interestRate\n",
        "    T1 = option_to_hedge.daysToExpiration\n",
        "    sig = option_to_hedge.volatility\n",
        "    \n",
        "    K2 = option_for_gamma.strikePrice\n",
        "    T2 = option_for_gamma.daysToExpiration\n",
        "    \n",
        "    t_axis = np.linspace(0, T1, len(gbm_traj))\n",
        "    dt = t_axis[1] - t_axis[0]\n",
        "\n",
        "\n",
        "    Vt = []\n",
        "    St = []\n",
        "    Ct = []\n",
        "    t=[]\n",
        "\n",
        "    Strategies = {'DeltaHedge': {\"t\": [],\n",
        "                                 \"Value\": [],\n",
        "                                 \"Stock\": [],\n",
        "                                 \"MM\": []},\n",
        "                  'DeltaGammaHedge': {\"t\": [],\n",
        "                                      \"Value\": [],\n",
        "                                      \"Stock\": [],\n",
        "                                      \"Option\": [],\n",
        "                                      \"MM\":[]}\n",
        "                 }\n",
        "    for S, t_ in zip(gbm_traj[:-1], t_axis[:-1]):\n",
        "        \n",
        "        option_V = mibian.BS([S, K, r*100, (T1-t_)*365], volatility = sig*100)\n",
        "        option_C = mibian.BS([S, K2, r*100, (T2-t_)*365], volatility = sig*100)\n",
        "        \n",
        "        V = option_V.callPrice\n",
        "        C = option_C.callPrice\n",
        "        S = S\n",
        "\n",
        "        if t_ == 0:\n",
        "            DH = 0.0 # current value of delta hedged portfolio \"hedge\" part\n",
        "            DGH = 0.0 # current value of delta-gamma hedged portfolio \"hedge\" part\n",
        "        else:\n",
        "            DH = Strategies['DeltaHedge']['Stock'][-1]*S + Strategies['DeltaHedge']['MM'][-1]*np.exp(r*dt)\n",
        "            DGH = Strategies['DeltaGammaHedge']['Stock'][-1]*S + Strategies['DeltaGammaHedge']['Option'][-1]*C + Strategies['DeltaGammaHedge']['MM'][-1]*np.exp(r*dt)\n",
        "\n",
        "        Strategies['DeltaHedge']['Value'].append(DH)\n",
        "        Strategies['DeltaGammaHedge']['Value'].append(DGH)\n",
        "\n",
        "        Vt.append(V)\n",
        "        St.append(S)\n",
        "        Ct.append(C)\n",
        "        t.append(t_)\n",
        "\n",
        "        # Greeks\n",
        "        delta_V = option_V.callDelta\n",
        "        delta_C = option_C.callDelta\n",
        "        delta_S = 1.0\n",
        "\n",
        "        gamma_V = option_V.gamma\n",
        "        gamma_C = option_C.gamma\n",
        "        gamma_S = 0.0\n",
        "        #Pdb().set_trace()\n",
        "\n",
        "        # Delta hedging\n",
        "        A = np.array([[delta_S, 0], [S, 1]])\n",
        "        B = np.array([[delta_V], [DH]])\n",
        "        X = np.linalg.solve(A, B)\n",
        "\n",
        "        Strategies['DeltaHedge']['Stock'].append(X[0][0])\n",
        "        Strategies['DeltaHedge']['MM'].append(X[1][0])\n",
        "\n",
        "        #Delta-gamma hedging\n",
        "        A = np.array([[delta_S, delta_C, 0], [gamma_S, gamma_C, 0], [S, C, 1]])\n",
        "        B = np.array([[delta_V], [gamma_V], [DGH]])\n",
        "        X = np.linalg.solve(A, B)\n",
        "\n",
        "        Strategies['DeltaGammaHedge']['Stock'].append(X[0][0])\n",
        "        Strategies['DeltaGammaHedge']['Option'].append(X[1][0])\n",
        "        Strategies['DeltaGammaHedge']['MM'].append(X[2][0])\n",
        "\n",
        "\n",
        "    t = np.array(t).reshape(-1, 1)\n",
        "    Vt = np.array(Vt).reshape(-1, 1)\n",
        "    Strategies['DeltaHedge']['Value'] = np.array(Strategies['DeltaHedge']['Value']).reshape(-1, 1)\n",
        "    Strategies['DeltaGammaHedge']['Value'] = np.array(Strategies['DeltaGammaHedge']['Value']).reshape(-1, 1)\n",
        "    \n",
        "    return t, Vt, Strategies \n",
        "\n",
        "\n",
        "S0 = 60.\n",
        "r = .05\n",
        "sig = .3\n",
        "T = 365. # days\n",
        "\n",
        "gbm_traj = gbm(S0 = S0, r = r, sigma = sig, T = T/365, time_steps = 252, n_paths = 1).ravel()\n",
        "\n",
        "\n",
        "option_to_hedge = mibian.BS([S0, 60., r*100, T], volatility = sig*100)\n",
        "option_for_gamma = mibian.BS([S0, 65., r*100, T], volatility = sig*100)\n",
        "\n",
        "t, Vt, Strategies = dynamic_hedging(gbm_traj, option_to_hedge = option_to_hedge, option_for_gamma = option_for_gamma)"
      ]
    },
    {
      "cell_type": "code",
      "execution_count": null,
      "id": "f43cc7ef",
      "metadata": {
        "id": "f43cc7ef"
      },
      "outputs": [],
      "source": [
        "%matplotlib inline \n",
        "plt.plot(t, gbm_traj[1:])"
      ]
    },
    {
      "cell_type": "code",
      "execution_count": null,
      "id": "7d58c257",
      "metadata": {
        "id": "7d58c257"
      },
      "outputs": [],
      "source": [
        "%matplotlib notebook\n",
        "plt.plot(t[1:], Vt[1:], label = 'Position')\n",
        "plt.plot(t[1:], -Strategies['DeltaHedge']['Value'][1:], label = \"Hedge\")\n",
        "plt.legend()\n",
        "\n",
        "run_animation(t[1:], Vt[1:] - Strategies['DeltaHedge']['Value'][1:], \"Delta hedged position\")"
      ]
    },
    {
      "cell_type": "code",
      "execution_count": null,
      "id": "67e49764",
      "metadata": {
        "id": "67e49764"
      },
      "outputs": [],
      "source": [
        "%matplotlib notebook\n",
        "plt.plot(t[1:], Vt[1:], label = 'Position')\n",
        "plt.plot(t[1:], -Strategies['DeltaGammaHedge']['Value'][1:], label = \"Hedge\")\n",
        "plt.legend()\n",
        "\n",
        "run_animation(t[1:], Vt[1:] - Strategies['DeltaGammaHedge']['Value'][1:], \"Delta-gamma hedged position\")"
      ]
    },
    {
      "cell_type": "code",
      "execution_count": null,
      "id": "361aaee0",
      "metadata": {
        "id": "361aaee0"
      },
      "outputs": [],
      "source": [
        "diff = (Vt[1:] - Strategies['DeltaGammaHedge']['Value'][1:])\n",
        "np.log(diff[-1]/diff[0])"
      ]
    },
    {
      "cell_type": "markdown",
      "id": "26145430",
      "metadata": {
        "id": "26145430"
      },
      "source": [
        "# Przykład na danych rynkowych"
      ]
    },
    {
      "cell_type": "code",
      "execution_count": null,
      "id": "3e3d77a4",
      "metadata": {
        "id": "3e3d77a4"
      },
      "outputs": [],
      "source": [
        "ticker = \"MSFT\"\n",
        "real_data = yf.download(ticker, start=\"2019-10-01\", end=\"2020-10-01\")['Open']\n",
        "calibration_data = yf.download(ticker, start = \"2018-10-01\", end=\"2019-10-01\")[\"Open\"]"
      ]
    },
    {
      "cell_type": "code",
      "execution_count": null,
      "id": "9d2bc2e8",
      "metadata": {
        "id": "9d2bc2e8"
      },
      "outputs": [],
      "source": [
        "%matplotlib inline\n",
        "real_data.plot(label=\"Testing\")\n",
        "calibration_data.plot(label=\"Calibration\")\n",
        "\n",
        "plt.legend()\n",
        "_ = plt.title(f\"{ticker} stock price\")"
      ]
    },
    {
      "cell_type": "code",
      "execution_count": null,
      "id": "0c563540",
      "metadata": {
        "id": "0c563540"
      },
      "outputs": [],
      "source": [
        "S0 = real_data[0]\n",
        "sig_hist = np.log(calibration_data).diff().mean()*np.sqrt(365)\n",
        "t_real, Vt_real, Strategies_real = dynamic_hedging(real_data,\n",
        "                                                   option_to_hedge = mibian.BS([S0, 190, r*100, 365], volatility = sig_hist*100),\n",
        "                                                   option_for_gamma = mibian.BS([S0, 200, r*100, 2*365], volatility = sig_hist*100))"
      ]
    },
    {
      "cell_type": "code",
      "execution_count": null,
      "id": "8a1bb77b",
      "metadata": {
        "id": "8a1bb77b"
      },
      "outputs": [],
      "source": [
        "%matplotlib notebook\n",
        "plt.plot(t_real[1:], Vt_real[1:], label = 'Position')\n",
        "plt.plot(t_real[1:], -Strategies_real['DeltaHedge']['Value'][1:], label = \"Hedge\")\n",
        "plt.legend()\n",
        "\n",
        "run_animation(t_real[1:], Vt_real[1:] - Strategies_real['DeltaHedge']['Value'][1:], \"Delta hedged position\")"
      ]
    },
    {
      "cell_type": "code",
      "execution_count": null,
      "id": "f8c97838",
      "metadata": {
        "id": "f8c97838"
      },
      "outputs": [],
      "source": [
        "%matplotlib notebook\n",
        "plt.plot(t_real[1:], Vt_real[1:], label = 'Position')\n",
        "plt.plot(t_real[1:], -Strategies_real['DeltaGammaHedge']['Value'][1:], label = \"Hedge\")\n",
        "plt.legend()\n",
        "\n",
        "run_animation(t_real[1:], Vt_real[1:] - Strategies_real['DeltaGammaHedge']['Value'][1:], \"Delta-gamma hedged position\")"
      ]
    },
    {
      "cell_type": "code",
      "execution_count": null,
      "id": "1fcfd049",
      "metadata": {
        "id": "1fcfd049"
      },
      "outputs": [],
      "source": [
        "%matplotlib inline\n",
        "real_data_np = np.array(real_data).reshape(-1, 1)\n",
        "logrets_real = np.diff(np.log(real_data_np), axis = 0)\n",
        "plt.hist(logrets_real, label = f'{ticker} logreturns', bins = 20)\n",
        "\n",
        "logrets_gbm = np.diff(np.log(gbm_traj))\n",
        "plt.hist(logrets_gbm, label = 'GBM logreturns', bins = 20)\n",
        "plt.legend()"
      ]
    },
    {
      "cell_type": "code",
      "execution_count": null,
      "id": "115ad4f0",
      "metadata": {
        "id": "115ad4f0"
      },
      "outputs": [],
      "source": [
        "plt.style.use('default')\n",
        "t_fitted = sc.t.fit(logrets_real)\n",
        "t_fitted = sc.t(*t_fitted)\n",
        "\n",
        "norm_fitted = sc.norm.fit(logrets_real)\n",
        "norm_fitted = sc.norm(*norm_fitted)\n",
        "\n",
        "cauchy_fitted = sc.cauchy.fit(logrets_real)\n",
        "cauchy_fitted = sc.cauchy(*cauchy_fitted)\n",
        "\n",
        "x_axis = np.linspace(logrets_real.min(), logrets_real.max(), 100)\n",
        "_=plt.hist(logrets_real, label =f'{ticker} logreturns', bins = 20, density = True)\n",
        "plt.plot(x_axis, t_fitted.pdf(x_axis), label = 'Fitted t distribution')\n",
        "plt.plot(x_axis, norm_fitted.pdf(x_axis), label = 'Fitted normal distribution')\n",
        "_= plt.legend()"
      ]
    },
    {
      "cell_type": "code",
      "execution_count": null,
      "id": "1a210de6",
      "metadata": {
        "id": "1a210de6"
      },
      "outputs": [],
      "source": [
        "%matplotlib inline\n",
        "plt.style.use('default')\n",
        "t_params = sc.t.fit((logrets_real - logrets_real.mean())/logrets_real.std())\n",
        "t_fit = sc.t(*t_params)\n",
        "\n",
        "St = gbm(S0 = 100, r = 0.01, sigma = 0.3, T = 1, time_steps=252, n_paths = 1, random_generator = t_fit)\n",
        "logrets_sim = np.diff(np.log(St), axis = 0)\n",
        "\n",
        "x_axis = np.linspace(logrets_real.min(), logrets_real.max(), 100)\n",
        "_ = plt.hist(logrets_sim, label ='Simulated logreturns', bins = 30, density = True, alpha = 0.5)\n",
        "_ = plt.hist(logrets_real, label ='Real logreturns', bins = 30, density = True, alpha = 0.5)\n",
        "\n",
        "_ = plt.legend()"
      ]
    },
    {
      "cell_type": "code",
      "execution_count": null,
      "id": "33470729",
      "metadata": {
        "id": "33470729"
      },
      "outputs": [],
      "source": [
        "def price_MC(stock_trajectory, strike, r, T, option_type):\n",
        "    \n",
        "    ST = stock_trajectory[-1, :]\n",
        "    if option_type == 'CALL':\n",
        "        payoff = np.maximum(ST - strike, 0).mean()\n",
        "    else:\n",
        "        payoff = np.maximum(strike - ST, 0).mean()\n",
        "    \n",
        "    return payoff*np.exp(-r*T)\n",
        "\n",
        "def dynamic_hedging2(stock_trajectory, random_generator, option_to_hedge, option_for_gamma):\n",
        "    \n",
        "    gbm_traj = stock_trajectory\n",
        "    option_type, K = option_to_hedge\n",
        "    option_type2, K2 = option_for_gamma\n",
        "    \n",
        "    t_axis = np.linspace(0, T, len(gbm_traj))\n",
        "    dt = t_axis[1] - t_axis[0]\n",
        "\n",
        "\n",
        "    Vt = []\n",
        "    St = []\n",
        "    Ct = []\n",
        "    t=[]\n",
        "\n",
        "    Strategies = {'DeltaHedge': {\"t\": [],\n",
        "                                 \"Value\": [],\n",
        "                                 \"Stock\": [],\n",
        "                                 \"MM\": []},\n",
        "                  'DeltaGammaHedge': {\"t\": [],\n",
        "                                      \"Value\": [],\n",
        "                                      \"Stock\": [],\n",
        "                                      \"Option\": [],\n",
        "                                      \"MM\":[]}\n",
        "                 }\n",
        "    for ind, (S, t_) in enumerate(zip(gbm_traj[:-10], t_axis[:-10])):\n",
        "        K = S*0.9\n",
        "        K2 = S*1.1\n",
        "        \n",
        "        V = vanilla_price(S, K, option_type, r, sig, T-t_)\n",
        "        C = vanilla_price(S, K2, option_type2, r, sig, T-t_)\n",
        "        S = S\n",
        "\n",
        "        if t_ == 0:\n",
        "            DH = 0.0\n",
        "            DGH = 0.0\n",
        "        else:\n",
        "            DH = Strategies['DeltaHedge']['Stock'][-1]*S + Strategies['DeltaHedge']['MM'][-1]*np.exp(r*dt)\n",
        "            DGH = Strategies['DeltaGammaHedge']['Stock'][-1]*S + Strategies['DeltaGammaHedge']['Option'][-1]*C + Strategies['DeltaGammaHedge']['MM'][-1]*np.exp(r*dt)\n",
        "\n",
        "        Strategies['DeltaHedge']['Value'].append(DH)\n",
        "        Strategies['DeltaGammaHedge']['Value'].append(DGH)\n",
        "\n",
        "        Vt.append(V)\n",
        "        St.append(S)\n",
        "        Ct.append(C)\n",
        "        t.append(t_)\n",
        "        \n",
        "        epsilon = 0.000001\n",
        "        S_plus = S*(1+epsilon)\n",
        "        S_minus = S*(1-epsilon)\n",
        "        dS = S_plus - S_minus\n",
        "        \n",
        "        simu_S = gbm(S0 = S, r = 0.01, sigma = 0.3, T = T-t_, time_steps=len(gbm_traj[:-10])-ind, n_paths = 200000, \n",
        "                     random_generator = random_generator)\n",
        "        simu_S_plus = simu_S*(1+epsilon)\n",
        "        simu_S_minus = simu_S*(1-epsilon)\n",
        "        \n",
        "        \n",
        "        # Greeks\n",
        "        delta_V = (price_MC(simu_S_plus, K, r, T, option_type) - \n",
        "                   price_MC(simu_S_minus, K, r, T, option_type))/(2*dS)\n",
        "        delta_C = (price_MC(simu_S_plus, K2, r, T, option_type) -\n",
        "                   price_MC(simu_S_minus, K2, r, T, option_type))/(2*dS)\n",
        "        delta_S = 1.0\n",
        "\n",
        "        \n",
        "        gamma_V = (price_MC(simu_S_plus, K, r, T, option_type) - \n",
        "                   2*price_MC(simu_S, K, r, T, option_type) + \n",
        "                   price_MC(simu_S_minus, K, r, T, option_type))/(dS**2)\n",
        "        gamma_C = (price_MC(simu_S_plus, K2, r, T, option_type2) - \n",
        "                   2*price_MC(simu_S, K2, r, T, option_type2) + \n",
        "                   price_MC(simu_S_minus, K2, r, T, option_type2))/(dS**2)\n",
        "        gamma_S = 0.0\n",
        "\n",
        "        print(f\"S_{t_:.2f} = {S:.4f}: delta_V = {delta_V:.4f}, delta_C = {delta_C:.4f}, gamma_V = {gamma_V:.4f}, gamma_C = {gamma_C:.4f}\")\n",
        "        # Delta hedging\n",
        "        A = np.array([[delta_S, 0], [S, 1]])\n",
        "        B = np.array([[delta_V], [DH]])\n",
        "        X = np.linalg.solve(A, B)\n",
        "\n",
        "        Strategies['DeltaHedge']['Stock'].append(X[0][0])\n",
        "        Strategies['DeltaHedge']['MM'].append(X[1][0])\n",
        "\n",
        "        #Delta-gamma hedging\n",
        "        A = np.array([[delta_S, delta_C, 0], [gamma_S, gamma_C, 0], [S, C, 1]])\n",
        "        B = np.array([[delta_V], [gamma_V], [DGH]])\n",
        "        X = np.linalg.solve(A, B)\n",
        "\n",
        "        Strategies['DeltaGammaHedge']['Stock'].append(X[0][0])\n",
        "        Strategies['DeltaGammaHedge']['Option'].append(X[1][0])\n",
        "        Strategies['DeltaGammaHedge']['MM'].append(X[2][0])\n",
        "\n",
        "    t = np.array(t).reshape(-1, 1)\n",
        "    Vt = np.array(Vt).reshape(-1, 1)\n",
        "    Strategies['DeltaHedge']['Value'] = np.array(Strategies['DeltaHedge']['Value']).reshape(-1, 1)\n",
        "    Strategies['DeltaGammaHedge']['Value'] = np.array(Strategies['DeltaGammaHedge']['Value']).reshape(-1, 1)\n",
        "    \n",
        "    return t, Vt, Strategies "
      ]
    },
    {
      "cell_type": "code",
      "execution_count": null,
      "id": "d851e88c",
      "metadata": {
        "id": "d851e88c"
      },
      "outputs": [],
      "source": [
        "t_real, Vt_real, Strategies_real = dynamic_hedging2(real_data, random_generator = t_fit, option_to_hedge = ('CALL', 100), option_for_gamma = ('CALL', 90))"
      ]
    },
    {
      "cell_type": "code",
      "execution_count": null,
      "id": "1479a81b",
      "metadata": {
        "id": "1479a81b"
      },
      "outputs": [],
      "source": [
        "%matplotlib notebook\n",
        "plt.plot(t_real[1:], Vt_real[1:], label = 'Position')\n",
        "plt.plot(t_real[1:], Strategies_real['DeltaHedge']['Value'][1:], label = \"Hedge\")\n",
        "plt.legend()\n",
        "\n",
        "run_animation(t_real[1:], Vt_real[1:] - Strategies_real['DeltaHedge']['Value'][1:], \"Delta hedged position\")"
      ]
    }
  ],
  "metadata": {
    "kernelspec": {
      "display_name": "Python 3",
      "language": "python",
      "name": "python3"
    },
    "language_info": {
      "codemirror_mode": {
        "name": "ipython",
        "version": 3
      },
      "file_extension": ".py",
      "mimetype": "text/x-python",
      "name": "python",
      "nbconvert_exporter": "python",
      "pygments_lexer": "ipython3",
      "version": "3.8.8"
    },
    "colab": {
      "name": "Greek Hedging.ipynb",
      "provenance": []
    }
  },
  "nbformat": 4,
  "nbformat_minor": 5
}